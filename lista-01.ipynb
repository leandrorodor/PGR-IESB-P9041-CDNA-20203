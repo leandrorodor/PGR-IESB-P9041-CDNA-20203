{
  "nbformat": 4,
  "nbformat_minor": 0,
  "metadata": {
    "colab": {
      "name": "Untitled5.ipynb",
      "provenance": [],
      "authorship_tag": "ABX9TyPL8rhl+uB7tAfg18o0D9m1",
      "include_colab_link": true
    },
    "kernelspec": {
      "name": "python3",
      "display_name": "Python 3"
    }
  },
  "cells": [
    {
      "cell_type": "markdown",
      "metadata": {
        "id": "view-in-github",
        "colab_type": "text"
      },
      "source": [
        "<a href=\"https://colab.research.google.com/github/leandrorodor/PGR-IESB-P9041-CDNA-20203/blob/master/lista-01.ipynb\" target=\"_parent\"><img src=\"https://colab.research.google.com/assets/colab-badge.svg\" alt=\"Open In Colab\"/></a>"
      ]
    },
    {
      "cell_type": "markdown",
      "metadata": {
        "id": "ZkA_wLSb60fW",
        "colab_type": "text"
      },
      "source": [
        "Lista 01 - Python\n",
        "\n",
        "\n",
        "---\n",
        "\n"
      ]
    },
    {
      "cell_type": "markdown",
      "metadata": {
        "id": "UDzGKyli66Vt",
        "colab_type": "text"
      },
      "source": [
        "#### 1 - Execute todas as operações aritiméticas básicas (adição, subtração, divisão e multiplicação) com as variáveis 'a' e 'b' abaixo."
      ]
    },
    {
      "cell_type": "code",
      "metadata": {
        "id": "23Ms-Rak6zWq",
        "colab_type": "code",
        "colab": {}
      },
      "source": [
        "a = 15\n",
        "b = 12\n",
        "\n",
        "soma=(a + b) # Adição\n",
        "print(soma)\n",
        "\n",
        "sub=(a - b) # Subtração\n",
        "print(sub)\n",
        "\n",
        "mult=(a * b) # Multiplicação\n",
        "print(mult)\n",
        "\n",
        "div=(a / b) # Divisão\n",
        "print(div)\n",
        "\n",
        "inteiro=(a // b) # Parte inteiro\n",
        "print(inteiro)\n",
        "\n",
        "modulo=(a % b) # Módulo\n",
        "print(resto)\n",
        "\n",
        "exp=(a ** b) # Exponenciação\n",
        "print(exp)\n"
      ],
      "execution_count": null,
      "outputs": []
    },
    {
      "cell_type": "markdown",
      "metadata": {
        "id": "7U9Rwgjm67Lf",
        "colab_type": "text"
      },
      "source": [
        "#### 2 - Tente calcular o seu IMC utilizando somente operações matemáticas. Dica: o IMC é calculado da seguinte forma: IMC = peso / (altura em metros * altura em metros)c"
      ]
    },
    {
      "cell_type": "code",
      "metadata": {
        "id": "L7GfA_2G67nG",
        "colab_type": "code",
        "colab": {
          "base_uri": "https://localhost:8080/",
          "height": 34
        },
        "outputId": "0e1b1509-b7a4-4880-99eb-c6d29a8a12ea"
      },
      "source": [
        "def imc(peso,altura):\n",
        "    print(\"Seu IMC é:\",peso/altura ** altura)  \n",
        "\n",
        "imc(110,1.85)"
      ],
      "execution_count": 1,
      "outputs": [
        {
          "output_type": "stream",
          "text": [
            "Seu IMC é: 35.24722960752854\n"
          ],
          "name": "stdout"
        }
      ]
    },
    {
      "cell_type": "markdown",
      "metadata": {
        "id": "4_4oW5Qz6751",
        "colab_type": "text"
      },
      "source": [
        "#### 3 - Sua professora de português pediu para você escrever a frase 'português é maravilhoso' 50 vezes. Como resolver esse problema com python? Demonstre sua solução."
      ]
    },
    {
      "cell_type": "code",
      "metadata": {
        "id": "R5huPMJD68H9",
        "colab_type": "code",
        "colab": {}
      },
      "source": [
        "for i in range(50):\n",
        "    print(\"português é maravilhoso\")"
      ],
      "execution_count": null,
      "outputs": []
    },
    {
      "cell_type": "markdown",
      "metadata": {
        "id": "07k5UY4u68Xj",
        "colab_type": "text"
      },
      "source": [
        "#### 4 - Um modelo de regressão linear possui a seguinte fórmula: y=0.253*x + 125. Qual será o valor de Y quando X for 125?"
      ]
    },
    {
      "cell_type": "code",
      "metadata": {
        "id": "ObB-nUrz68kB",
        "colab_type": "code",
        "colab": {}
      },
      "source": [
        "def reg(x):\n",
        "    return (0.253*x+125)\n",
        "y = reg(125)\n",
        "print(y)"
      ],
      "execution_count": null,
      "outputs": []
    },
    {
      "cell_type": "markdown",
      "metadata": {
        "id": "pfE9JPjf68vw",
        "colab_type": "text"
      },
      "source": [
        "#### 5 - Qual é raiz cubica de 144? Utilize somente operações python apresentadas neste notebook.c"
      ]
    },
    {
      "cell_type": "code",
      "metadata": {
        "id": "wfDR_NOe686e",
        "colab_type": "code",
        "colab": {
          "base_uri": "https://localhost:8080/",
          "height": 34
        },
        "outputId": "11621460-4775-4016-cbad-6a75e7258551"
      },
      "source": [
        "def r_cub(x):\n",
        "    return (x**(1./3.))\n",
        "\n",
        "x = r_cub(144)\n",
        "print(x)  "
      ],
      "execution_count": 2,
      "outputs": [
        {
          "output_type": "stream",
          "text": [
            "5.241482788417793\n"
          ],
          "name": "stdout"
        }
      ]
    },
    {
      "cell_type": "markdown",
      "metadata": {
        "id": "4X4XPs0o69FH",
        "colab_type": "text"
      },
      "source": [
        "#### 6 - Nossa matéria terá dois trabalhos! Os pesos são, respectivamente, 4 e 6. Imagine que você tenha tirado 8.2 no primeiro projeto e 3.3 no segundo projeto. Levando em consideração sua nota final e os pesos, você tirou uma média maior que 5?"
      ]
    },
    {
      "cell_type": "code",
      "metadata": {
        "id": "CsTZZily69O8",
        "colab_type": "code",
        "colab": {
          "base_uri": "https://localhost:8080/",
          "height": 34
        },
        "outputId": "270a9bde-dc46-4f19-9d30-c4400ea33139"
      },
      "source": [
        "p1 = 4\n",
        "p2 = 6\n",
        "def nota(n1,n2):\n",
        "    media_ponderada = ((n1*p1)+(n2*p2)/p1+p2)/10\n",
        "\n",
        "    if (media_ponderada <= 5):\n",
        "        print(\"Sua média é insuficiente - \",media_ponderada)\n",
        "    else:\n",
        "        print(\"Você foi aprovado - \",media_ponderada)\n",
        "\n",
        "nota(8.2,3.3)"
      ],
      "execution_count": 3,
      "outputs": [
        {
          "output_type": "stream",
          "text": [
            "Sua média é insuficiente -  4.375\n"
          ],
          "name": "stdout"
        }
      ]
    },
    {
      "cell_type": "markdown",
      "metadata": {
        "id": "T694etAR69Yf",
        "colab_type": "text"
      },
      "source": [
        "#### 7 - Crie uma lista 'a_list' com os seguintes valores: 1, hello, [1,2,3] e True."
      ]
    },
    {
      "cell_type": "code",
      "metadata": {
        "id": "_f7j5ttG69gv",
        "colab_type": "code",
        "colab": {}
      },
      "source": [
        "a_list=[1,\"hello\",[1,2,3],True]"
      ],
      "execution_count": null,
      "outputs": []
    },
    {
      "cell_type": "markdown",
      "metadata": {
        "id": "mRKheQnz69on",
        "colab_type": "text"
      },
      "source": [
        "#### 8 - Ache o valor em 'a_list' que esteja no índice -1."
      ]
    },
    {
      "cell_type": "code",
      "metadata": {
        "id": "Pqi5f8-269vP",
        "colab_type": "code",
        "colab": {}
      },
      "source": [
        ""
      ],
      "execution_count": null,
      "outputs": []
    },
    {
      "cell_type": "markdown",
      "metadata": {
        "id": "imUsGwqw692J",
        "colab_type": "text"
      },
      "source": [
        ""
      ]
    },
    {
      "cell_type": "code",
      "metadata": {
        "id": "D3OXLI9O6-AH",
        "colab_type": "code",
        "colab": {}
      },
      "source": [
        ""
      ],
      "execution_count": null,
      "outputs": []
    },
    {
      "cell_type": "markdown",
      "metadata": {
        "id": "pyL1bl4x6-Im",
        "colab_type": "text"
      },
      "source": [
        ""
      ]
    },
    {
      "cell_type": "code",
      "metadata": {
        "id": "HwMeHkAZ6-Pg",
        "colab_type": "code",
        "colab": {}
      },
      "source": [
        ""
      ],
      "execution_count": null,
      "outputs": []
    },
    {
      "cell_type": "markdown",
      "metadata": {
        "id": "YXI9SXgP6-W-",
        "colab_type": "text"
      },
      "source": [
        ""
      ]
    },
    {
      "cell_type": "code",
      "metadata": {
        "id": "khoGZ5KQ6-do",
        "colab_type": "code",
        "colab": {}
      },
      "source": [
        ""
      ],
      "execution_count": null,
      "outputs": []
    },
    {
      "cell_type": "markdown",
      "metadata": {
        "id": "uZNBgXhv6-kX",
        "colab_type": "text"
      },
      "source": [
        ""
      ]
    },
    {
      "cell_type": "code",
      "metadata": {
        "id": "3CugovA86-wn",
        "colab_type": "code",
        "colab": {}
      },
      "source": [
        ""
      ],
      "execution_count": null,
      "outputs": []
    }
  ]
}