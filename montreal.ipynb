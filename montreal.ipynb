{
  "nbformat": 4,
  "nbformat_minor": 0,
  "metadata": {
    "colab": {
      "name": "montreal.ipynb",
      "provenance": [],
      "authorship_tag": "ABX9TyPj7vLZTebzc6dPrq8BC3SQ",
      "include_colab_link": true
    },
    "kernelspec": {
      "name": "python3",
      "display_name": "Python 3"
    }
  },
  "cells": [
    {
      "cell_type": "markdown",
      "metadata": {
        "id": "view-in-github",
        "colab_type": "text"
      },
      "source": [
        "<a href=\"https://colab.research.google.com/github/leandrorodor/PGR-IESB-P9041-CDNA-20203/blob/master/montreal.ipynb\" target=\"_parent\"><img src=\"https://colab.research.google.com/assets/colab-badge.svg\" alt=\"Open In Colab\"/></a>"
      ]
    },
    {
      "cell_type": "code",
      "metadata": {
        "id": "TGa6WotjfVrh",
        "colab_type": "code",
        "colab": {
          "base_uri": "https://localhost:8080/",
          "height": 129
        },
        "outputId": "9eab747c-1f38-4195-e79b-e01ede8285a4"
      },
      "source": [
        "import pandas as pd\n",
        "#read CSV file\n",
        "def read_trips():\n",
        " \n",
        " data_files = glob.glob(‘data2018/OD_2018-*.csv’)\n",
        " li = []\n",
        " for filename in data_files:\n",
        " df = pd.read_csv(filename, index_col=None, header=0)\n",
        " li.append(df)\n",
        " \n",
        " #convert argument to datetime\n",
        " data = pd.concat(li, axis=0, ignore_index=True)\n",
        " data[‘start_date’] = pd.to_datetime(data[‘start_date’], format=’%Y-%m-%d’, errors=’coerce’)\n",
        " data[‘end_date’] = pd.to_datetime(data[‘end_date’], format=’%Y-%m-%d’, errors=’coerce’)\n",
        " \n",
        " #filtering out trips that were less than 2 min\n",
        " data = data.drop(data[data[‘duration_sec’] < 120].index)\n",
        " \n",
        " #adding a day number column to identify days of the week\n",
        " data[‘day_number’] =   pd.to_datetime(data[‘start_date’]).dt.dayofweek\n",
        " data = data.drop(data[data[‘day_number’].isin([5, 6])].index)\n",
        " \n",
        " return data"
      ],
      "execution_count": 1,
      "outputs": [
        {
          "output_type": "error",
          "ename": "SyntaxError",
          "evalue": "ignored",
          "traceback": [
            "\u001b[0;36m  File \u001b[0;32m\"<ipython-input-1-160ec9e4b6c8>\"\u001b[0;36m, line \u001b[0;32m5\u001b[0m\n\u001b[0;31m    data_files = glob.glob(‘data2018/OD_2018-*.csv’)\u001b[0m\n\u001b[0m                                   ^\u001b[0m\n\u001b[0;31mSyntaxError\u001b[0m\u001b[0;31m:\u001b[0m invalid character in identifier\n"
          ]
        }
      ]
    },
    {
      "cell_type": "code",
      "metadata": {
        "id": "CUTBOA-hfZXP",
        "colab_type": "code",
        "colab": {}
      },
      "source": [
        ""
      ],
      "execution_count": null,
      "outputs": []
    }
  ]
}