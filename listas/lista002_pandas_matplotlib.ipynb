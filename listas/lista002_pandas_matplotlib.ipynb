{
 "cells": [
  {
   "cell_type": "markdown",
   "metadata": {},
   "source": [
    "# Lista 002 - Pandas, Matplotlib, GeoPandas e Folium."
   ]
  },
  {
   "cell_type": "markdown",
   "metadata": {},
   "source": [
    "___\n",
    "#### 1. Monte um dataframe contendo todas as informações dos arquivos csv em 'data/transito'."
   ]
  },
  {
   "cell_type": "code",
   "execution_count": 65,
   "metadata": {},
   "outputs": [],
   "source": [
    "import pandas as pd"
   ]
  },
  {
   "cell_type": "code",
   "execution_count": 66,
   "metadata": {},
   "outputs": [],
   "source": [
    "df_janeiro = pd.read_csv('../data/transito/janeiro.csv', sep=';',usecols=[\"grav_tipo\",\"hora_cometimento\",\"cometimento\",\"tipo_infrator\",\"tipo_infracao\",\"tipo_veiculo\"])\n",
    "df_fevereiro = pd.read_csv('../data/transito/fevereiro.csv', sep=';',usecols=[\"grav_tipo\",\"hora_cometimento\",\"cometimento\",\"tipo_infrator\",\"tipo_infracao\",\"tipo_veiculo\"])\n",
    "df_marco = pd.read_csv('../data/transito/marco.csv', sep=';',usecols=[\"grav_tipo\",\"hora_cometimento\",\"cometimento\",\"tipo_infrator\",\"tipo_infracao\",\"tipo_veiculo\"])\n",
    "df_abril = pd.read_csv('../data/transito/abril.csv', sep=';',usecols=[\"grav_tipo\",\"hora_cometimento\",\"cometimento\",\"tipo_infrator\",\"tipo_infracao\",\"tipo_veiculo\"])\n",
    "df_maio = pd.read_csv('../data/transito/maio.csv', sep=';',usecols=[\"grav_tipo\",\"hora_cometimento\",\"cometimento\",\"tipo_infrator\",\"tipo_infracao\",\"tipo_veiculo\"])\n",
    "df_junho = pd.read_csv('../data/transito/junho.csv', sep=';',usecols=[\"grav_tipo\",\"hora_cometimento\",\"cometimento\",\"tipo_infrator\",\"tipo_infracao\",\"tipo_veiculo\"])\n",
    "df_julho = pd.read_csv('../data/transito/julho.csv', sep=';',usecols=[\"grav_tipo\",\"hora_cometimento\",\"cometimento\",\"tipo_infrator\",\"tipo_infracao\",\"tipo_veiculo\"])"
   ]
  },
  {
   "cell_type": "code",
   "execution_count": 67,
   "metadata": {},
   "outputs": [],
   "source": [
    "df_transito = pd.concat([df_janeiro, df_fevereiro,df_marco,df_abril,df_maio,df_junho,df_julho], ignore_index=True)"
   ]
  },
  {
   "cell_type": "code",
   "execution_count": 69,
   "metadata": {},
   "outputs": [
    {
     "data": {
      "text/html": [
       "<div>\n",
       "<style scoped>\n",
       "    .dataframe tbody tr th:only-of-type {\n",
       "        vertical-align: middle;\n",
       "    }\n",
       "\n",
       "    .dataframe tbody tr th {\n",
       "        vertical-align: top;\n",
       "    }\n",
       "\n",
       "    .dataframe thead th {\n",
       "        text-align: right;\n",
       "    }\n",
       "</style>\n",
       "<table border=\"1\" class=\"dataframe\">\n",
       "  <thead>\n",
       "    <tr style=\"text-align: right;\">\n",
       "      <th></th>\n",
       "      <th>tipo_infracao</th>\n",
       "      <th>tipo_infrator</th>\n",
       "      <th>tipo_veiculo</th>\n",
       "      <th>cometimento</th>\n",
       "      <th>hora_cometimento</th>\n",
       "      <th>grav_tipo</th>\n",
       "    </tr>\n",
       "  </thead>\n",
       "  <tbody>\n",
       "    <tr>\n",
       "      <th>500490</th>\n",
       "      <td>7455-0</td>\n",
       "      <td>Condutor</td>\n",
       "      <td>CAMINHAO</td>\n",
       "      <td>31/07/2020</td>\n",
       "      <td>23:57</td>\n",
       "      <td>Média</td>\n",
       "    </tr>\n",
       "    <tr>\n",
       "      <th>500491</th>\n",
       "      <td>7455-0</td>\n",
       "      <td>Condutor</td>\n",
       "      <td>AUTOMOVEL</td>\n",
       "      <td>31/07/2020</td>\n",
       "      <td>23:57</td>\n",
       "      <td>Média</td>\n",
       "    </tr>\n",
       "    <tr>\n",
       "      <th>500492</th>\n",
       "      <td>7455-0</td>\n",
       "      <td>Condutor</td>\n",
       "      <td>AUTOMOVEL</td>\n",
       "      <td>31/07/2020</td>\n",
       "      <td>23:57</td>\n",
       "      <td>Média</td>\n",
       "    </tr>\n",
       "    <tr>\n",
       "      <th>500493</th>\n",
       "      <td>7455-0</td>\n",
       "      <td>Condutor</td>\n",
       "      <td>MOTOCICLET</td>\n",
       "      <td>31/07/2020</td>\n",
       "      <td>23:57</td>\n",
       "      <td>Média</td>\n",
       "    </tr>\n",
       "    <tr>\n",
       "      <th>500494</th>\n",
       "      <td>7455-0</td>\n",
       "      <td>Condutor</td>\n",
       "      <td>CAMINHAO</td>\n",
       "      <td>31/07/2020</td>\n",
       "      <td>23:59</td>\n",
       "      <td>Média</td>\n",
       "    </tr>\n",
       "  </tbody>\n",
       "</table>\n",
       "</div>"
      ],
      "text/plain": [
       "       tipo_infracao tipo_infrator               tipo_veiculo cometimento  \\\n",
       "500490        7455-0      Condutor  CAMINHAO                   31/07/2020   \n",
       "500491        7455-0      Condutor  AUTOMOVEL                  31/07/2020   \n",
       "500492        7455-0      Condutor  AUTOMOVEL                  31/07/2020   \n",
       "500493        7455-0      Condutor  MOTOCICLET                 31/07/2020   \n",
       "500494        7455-0      Condutor  CAMINHAO                   31/07/2020   \n",
       "\n",
       "       hora_cometimento grav_tipo  \n",
       "500490            23:57     Média  \n",
       "500491            23:57     Média  \n",
       "500492            23:57     Média  \n",
       "500493            23:57     Média  \n",
       "500494            23:59     Média  "
      ]
     },
     "execution_count": 69,
     "metadata": {},
     "output_type": "execute_result"
    }
   ],
   "source": [
    "df_transito.tail()"
   ]
  },
  {
   "cell_type": "markdown",
   "metadata": {},
   "source": [
    "___\n",
    "#### 2. Quantos tipos diferentes de gravidade de infração exitem no dataset? Quais são?"
   ]
  },
  {
   "cell_type": "code",
   "execution_count": null,
   "metadata": {},
   "outputs": [],
   "source": [
    "# Recuperando apenas tipos diferentes de gravidade de infração\n",
    "df_transito[\"grav_tipo\"].unique()"
   ]
  },
  {
   "cell_type": "code",
   "execution_count": 70,
   "metadata": {},
   "outputs": [
    {
     "data": {
      "text/plain": [
       "Média         320657\n",
       "Leve           88655\n",
       "Grave          49004\n",
       "Gravíssima     42179\n",
       "Name: grav_tipo, dtype: int64"
      ]
     },
     "execution_count": 70,
     "metadata": {},
     "output_type": "execute_result"
    }
   ],
   "source": [
    "# Recuperando tipos diferentes de gravidade de infração com número de ocorrências\n",
    "df_transito[\"grav_tipo\"].value_counts()"
   ]
  },
  {
   "cell_type": "markdown",
   "metadata": {},
   "source": [
    "___\n",
    "#### 3. Qual a hora do dia que mais se cometem infrações graves? Demonstre utilizando um gráfico de linhas."
   ]
  },
  {
   "cell_type": "code",
   "execution_count": 72,
   "metadata": {},
   "outputs": [
    {
     "data": {
      "image/png": "[encoded data removed]",
      "text/plain": [
       "<Figure size 432x288 with 1 Axes>"
      ]
     },
     "metadata": {
      "needs_background": "light"
     },
     "output_type": "display_data"
    }
   ],
   "source": [
    "#Importando o pyplot\n",
    "from matplotlib import pyplot as plt\n",
    "df_transito[(df_transito.grav_tipo == 'Grave')].hora_cometimento.value_counts().plot(kind='line')\n",
    "plt.show()"
   ]
  },
  {
   "cell_type": "markdown",
   "metadata": {},
   "source": [
    "___\n",
    "#### 4. Qual dia da semana que mais se cometem infrações leves? Demonstre utilizando um gráfico de linhas e colocando um texto no ponto máximo."
   ]
  },
  {
   "cell_type": "code",
   "execution_count": null,
   "metadata": {},
   "outputs": [],
   "source": [
    "df_transito.info()\n",
    "# pd.to_datetime(df_transito.iloc[:,2])"
   ]
  },
  {
   "cell_type": "code",
   "execution_count": null,
   "metadata": {},
   "outputs": [],
   "source": [
    "# Adicionar nova coluna a partir da coluna \"cometimento\" \n",
    "# df_transito['cometimento_data'] = pd.to_datetime(df_transito['cometimento'])\n",
    "# df_transito['dia_da_semana'] = pd.to_datetime(df_transito['cometimento']).dt.dayofweek"
   ]
  },
  {
   "cell_type": "code",
   "execution_count": 85,
   "metadata": {},
   "outputs": [],
   "source": [
    "df_transito['data'] = pd.to_datetime(df_transito['cometimento']) # Criação de nova coluna \"data\" utilizando to_datetime\n",
    "df_transito['dia_da_semana'] = df_transito['data'].dt.dayofweek # Criação de nova coluna \"dia_da_semana\" utilizando dt.dayofweek"
   ]
  },
  {
   "cell_type": "code",
   "execution_count": 80,
   "metadata": {},
   "outputs": [
    {
     "data": {
      "text/plain": [
       "3    16637\n",
       "4    16471\n",
       "0    16004\n",
       "1    15123\n",
       "2    14783\n",
       "5     5145\n",
       "6     4492\n",
       "Name: dia_da_semana, dtype: int64"
      ]
     },
     "execution_count": 80,
     "metadata": {},
     "output_type": "execute_result"
    }
   ],
   "source": [
    "df_transito.query(\"grav_tipo == 'Leve'\").dia_da_semana.value_counts()"
   ]
  },
  {
   "cell_type": "code",
   "execution_count": 82,
   "metadata": {},
   "outputs": [
    {
     "data": {
      "text/plain": [
       "<matplotlib.axes._subplots.AxesSubplot at 0x7feaa83c8bd0>"
      ]
     },
     "execution_count": 82,
     "metadata": {},
     "output_type": "execute_result"
    },
    {
     "data": {
      "image/png": "[encoded data removed]",
      "text/plain": [
       "<Figure size 432x288 with 1 Axes>"
      ]
     },
     "metadata": {
      "needs_background": "light"
     },
     "output_type": "display_data"
    }
   ],
   "source": [
    "\n",
    "df_transito.query(\"grav_tipo == 'Leve'\").dia_da_semana.value_counts().plot(kind='line')"
   ]
  },
  {
   "cell_type": "code",
   "execution_count": 81,
   "metadata": {},
   "outputs": [
    {
     "data": {
      "image/png": "[encoded data removed]",
      "text/plain": [
       "<Figure size 432x288 with 1 Axes>"
      ]
     },
     "metadata": {
      "needs_background": "light"
     },
     "output_type": "display_data"
    }
   ],
   "source": [
    "df_transito.query(\"grav_tipo == 'Leve'\").dia_da_semana.value_counts().plot(kind='bar')\n",
    "plt.show()"
   ]
  },
  {
   "cell_type": "markdown",
   "metadata": {},
   "source": [
    "___\n",
    "#### 5. Filtre o dataset pelo tipo de condutor 'condutor', qual o tipo de infração mais comum? Em que horário ele mais acontece? Monte um subplot para demonstrar as duas informações utilizando gráficos."
   ]
  },
  {
   "cell_type": "code",
   "execution_count": 83,
   "metadata": {},
   "outputs": [
    {
     "data": {
      "text/plain": [
       "7455-0    297088\n",
       "5681-0     85074\n",
       "7463-0     27752\n",
       "7633-2      7878\n",
       "5185-1      7178\n",
       "           ...  \n",
       "5428-4         1\n",
       "5452-4         1\n",
       "6009-5         1\n",
       "6017-2         1\n",
       "5606-0         1\n",
       "Name: tipo_infracao, Length: 178, dtype: int64"
      ]
     },
     "execution_count": 83,
     "metadata": {},
     "output_type": "execute_result"
    }
   ],
   "source": [
    "df_transito.query(\"tipo_infrator == 'Condutor'\").tipo_infracao.value_counts()\n",
    "# Para o tipo de infrator \"Condutor\", a infração mais comum é a 7455-0"
   ]
  },
  {
   "cell_type": "code",
   "execution_count": 84,
   "metadata": {},
   "outputs": [
    {
     "data": {
      "text/plain": [
       "15:53    646\n",
       "15:20    641\n",
       "15:57    638\n",
       "15:39    636\n",
       "15:10    628\n",
       "        ... \n",
       "03:29     57\n",
       "03:06     56\n",
       "03:31     56\n",
       "04:03     56\n",
       "04:04     52\n",
       "Name: hora_cometimento, Length: 1440, dtype: int64"
      ]
     },
     "execution_count": 84,
     "metadata": {},
     "output_type": "execute_result"
    }
   ],
   "source": [
    "df_transito.query(\"tipo_infrator == 'Condutor'\").hora_cometimento.value_counts()\n",
    "# Para o tipo de infrator \"Condutor\", o horário de maior ocorrência é 15:53"
   ]
  },
  {
   "cell_type": "code",
   "execution_count": null,
   "metadata": {},
   "outputs": [],
   "source": [
    "df_transito.query(\"tipo_infrator == 'Condutor'\").tipo_infracao.value_counts().plot(kind='line')\n",
    "df_transito.query(\"tipo_infrator == 'Condutor'\").hora_cometimento.value_counts().plot(kind='line')\n",
    "plt.show()"
   ]
  },
  {
   "cell_type": "markdown",
   "metadata": {},
   "source": [
    "___\n",
    "#### 6. Monte um subplot com 7 heatmaps (1 para cada mês) demonstrando a concentração da quantidade infrações por dia do mês e hora do dia (desconsidere os minutos)."
   ]
  },
  {
   "cell_type": "code",
   "execution_count": null,
   "metadata": {},
   "outputs": [],
   "source": [
    "df_transito['mes'] = df_transito['data'].dt.month # Criação de nova coluna \"mes\" utilizando dt.dayofweek\n",
    "df_transito['mes'] = df_transito['data'].dt.month # Criação de nova coluna \"mes\" utilizando dt.dayofweek\n",
    "df_transito['mes'] = df_transito['data'].dt.month # Criação de nova coluna \"mes\" utilizando dt.dayofweek"
   ]
  },
  {
   "cell_type": "code",
   "execution_count": 87,
   "metadata": {},
   "outputs": [
    {
     "data": {
      "text/plain": [
       "7     65560\n",
       "6     62631\n",
       "1     61891\n",
       "2     61278\n",
       "3     60939\n",
       "5     60340\n",
       "4     43345\n",
       "9     17684\n",
       "12    17574\n",
       "8     16866\n",
       "10    16346\n",
       "11    16041\n",
       "Name: mes, dtype: int64"
      ]
     },
     "execution_count": 87,
     "metadata": {},
     "output_type": "execute_result"
    }
   ],
   "source": [
    "df_transito['mes'].value_counts()"
   ]
  },
  {
   "cell_type": "markdown",
   "metadata": {},
   "source": [
    "___\n",
    "#### 7. Alguma bicicleta já tomou multa? Se sim, qual foi a gravidade?"
   ]
  },
  {
   "cell_type": "code",
   "execution_count": null,
   "metadata": {},
   "outputs": [],
   "source": [
    "df_transito.query((\"tipo_veiculo == 'Bicicleta'\") or (\"tipo_veiculo == 'BICICLETA'\"))"
   ]
  },
  {
   "cell_type": "markdown",
   "metadata": {},
   "source": [
    "___\n",
    "#### 8.Leia as informações de cada rodovia utilizando o link abaixo e guarde em um dataframe.\n",
    "'http://dados.df.gov.br/dataset/3cb44f4a-576c-45b8-8f13-ae94a6623277/resource/2bd0f48e-d3a1-47c6-bd12-83aed24e9461/download/2020-05-19-scr.csv'"
   ]
  },
  {
   "cell_type": "code",
   "execution_count": null,
   "metadata": {},
   "outputs": [],
   "source": [
    "scr = pd.read_csv('../data/2020-05-19-scr.csv', sep=';', encoding='latin-1')"
   ]
  },
  {
   "cell_type": "code",
   "execution_count": null,
   "metadata": {},
   "outputs": [],
   "source": [
    "scr.tail()"
   ]
  },
  {
   "cell_type": "code",
   "execution_count": null,
   "metadata": {},
   "outputs": [],
   "source": [
    "scr.info()"
   ]
  },
  {
   "cell_type": "markdown",
   "metadata": {},
   "source": [
    "___\n",
    "#### 9 Investigando OS TRECHOS responda (TRUE ou FALSE).\n",
    "> 9.1 Trechos em rodovias 'Distrital' possuem a mesma mediana de extensão de trechos em rodovias 'Federal'. Crie um boxplot para demonstrar e não esqueça de colocar legendas e anotação de texto.\n",
    "## FALSO"
   ]
  },
  {
   "cell_type": "code",
   "execution_count": null,
   "metadata": {},
   "outputs": [],
   "source": [
    "scr['RESPONSÁVEL'].value_counts()"
   ]
  },
  {
   "cell_type": "code",
   "execution_count": null,
   "metadata": {},
   "outputs": [],
   "source": [
    "scr[['EXTENSÃO','RESPONSÁVEL']].median()"
   ]
  },
  {
   "cell_type": "code",
   "execution_count": null,
   "metadata": {},
   "outputs": [],
   "source": [
    "scr.query(\"RESPONSÁVEL == 'DERDF     '\").EXTENSÃO.median()"
   ]
  },
  {
   "cell_type": "code",
   "execution_count": null,
   "metadata": {},
   "outputs": [],
   "source": [
    "scr.query(\"RESPONSÁVEL == 'DNIT      '\").EXTENSÃO.median()"
   ]
  },
  {
   "cell_type": "markdown",
   "metadata": {},
   "source": [
    "> 9.2 Em termos de extensão, existem mais kms de pista duplicada ('DUP') do que pista pavimentada ('PAV'). Demonstre através de um gráfico de barra.\n",
    "## FALSO"
   ]
  },
  {
   "cell_type": "code",
   "execution_count": null,
   "metadata": {},
   "outputs": [],
   "source": [
    "scr['SITUAÇÃO'].value_counts()"
   ]
  },
  {
   "cell_type": "code",
   "execution_count": null,
   "metadata": {},
   "outputs": [],
   "source": [
    "scr.query(\"SITUAÇÃO == 'DUP  '\").EXTENSÃO.sum()"
   ]
  },
  {
   "cell_type": "code",
   "execution_count": null,
   "metadata": {},
   "outputs": [],
   "source": [
    "scr.query(\"SITUAÇÃO == 'PAV  '\").EXTENSÃO.sum()"
   ]
  },
  {
   "cell_type": "markdown",
   "metadata": {},
   "source": [
    "> 9.3 Existem somente duas rodovias com mais de 30 trechos.\n",
    "## VERDADEIRO"
   ]
  },
  {
   "cell_type": "code",
   "execution_count": null,
   "metadata": {},
   "outputs": [],
   "source": [
    "scr[['RODOVIA','COD. TRECHO']]"
   ]
  },
  {
   "cell_type": "code",
   "execution_count": null,
   "metadata": {},
   "outputs": [],
   "source": [
    "scr['RODOVIA'].value_counts()"
   ]
  },
  {
   "cell_type": "markdown",
   "metadata": {},
   "source": [
    "> 9.4 A distribuição das extensões dos trechos das rodovias federais segue uma distribuição normal. (Demonstre com um gráfico e um teste estatístico)"
   ]
  },
  {
   "cell_type": "markdown",
   "metadata": {},
   "source": [
    "> 9.5 Existe uma diferença estatística entre as médias das extensões da rodovias vicinais e federais. (Demonstre com um teste estatístico)"
   ]
  },
  {
   "cell_type": "markdown",
   "metadata": {},
   "source": [
    "> 9.6 O 2º DR tem, em média, o maior TMDA (tráfego diário médio anual) se comparado com as médias dos outros distritos. (Demonstre utilizando um gráfico)."
   ]
  },
  {
   "cell_type": "code",
   "execution_count": null,
   "metadata": {},
   "outputs": [],
   "source": []
  },
  {
   "cell_type": "code",
   "execution_count": null,
   "metadata": {},
   "outputs": [],
   "source": []
  },
  {
   "cell_type": "markdown",
   "metadata": {},
   "source": [
    "___\n",
    "#### 11. Leia as informações de Obra de Arte Especial (OAE) utilizando o link abaixo e guarde em um dataframe.\n",
    "'http://dados.df.gov.br/dataset/468f0b08-f5ae-4d61-954c-3062a9d26dad/resource/fac7a26a-baa3-4250-9ae5-b9c7273ae8df/download/2020-05-19-oae.csv'"
   ]
  },
  {
   "cell_type": "code",
   "execution_count": null,
   "metadata": {},
   "outputs": [],
   "source": [
    "oae = pd.read_csv('../data/2020-05-19-oae.csv', sep=';', encoding='latin-1')"
   ]
  },
  {
   "cell_type": "markdown",
   "metadata": {},
   "source": [
    "___\n",
    "#### 12. Avalie (TRUE OU FALSE):\n",
    "> 12.1 A correlação entre a quantidade de OAE e a extensão total das rodovias (soma da ### extensão dos trechos) é maior do que 0.8."
   ]
  },
  {
   "cell_type": "code",
   "execution_count": null,
   "metadata": {},
   "outputs": [],
   "source": [
    "oae.iloc[0]"
   ]
  },
  {
   "cell_type": "code",
   "execution_count": null,
   "metadata": {},
   "outputs": [],
   "source": [
    "oae[['COD. OAE','km']].corr().style.format(\"{:.2}\").background_gradient(cmap=plt.get_cmap('coolwarm'), axis=1)"
   ]
  },
  {
   "cell_type": "code",
   "execution_count": null,
   "metadata": {},
   "outputs": [],
   "source": [
    "plt.scatter('COD. OAE','km',data=oae)"
   ]
  },
  {
   "cell_type": "markdown",
   "metadata": {},
   "source": [
    "> 12.2 A correlação entre a largura do passeio e a altura do guarda-corpo das pontes é menor do que 0.2. - VERDADEIRO"
   ]
  },
  {
   "cell_type": "code",
   "execution_count": null,
   "metadata": {},
   "outputs": [],
   "source": [
    "oae[['LARG. PASSEIO','ALT. GUARDA-CORPO']].corr().style.format(\"{:.2}\").background_gradient(cmap=plt.get_cmap('coolwarm'), axis=1)"
   ]
  },
  {
   "cell_type": "code",
   "execution_count": null,
   "metadata": {},
   "outputs": [],
   "source": [
    "plt.scatter('LARG. PASSEIO','ALT. GUARDA-CORPO',data=oae)"
   ]
  },
  {
   "cell_type": "markdown",
   "metadata": {},
   "source": [
    "___\n",
    "### 13. Siga as instruções."
   ]
  },
  {
   "cell_type": "markdown",
   "metadata": {},
   "source": [
    "> 13.1 Crie um dataframe chamado dist_oae com as informações COD.OAE, LONGITUDE, LATITUDE de cada OAE."
   ]
  },
  {
   "cell_type": "code",
   "execution_count": null,
   "metadata": {},
   "outputs": [],
   "source": [
    "dist_oae = pd.read_csv('../data/2020-05-19-oae.csv', sep=';',usecols=[\"COD. OAE\",\"LONGITUDE\",\"LATITUTE\"], encoding='latin-1')"
   ]
  },
  {
   "cell_type": "code",
   "execution_count": null,
   "metadata": {},
   "outputs": [],
   "source": [
    "dist_oae.tail()"
   ]
  },
  {
   "cell_type": "markdown",
   "metadata": {},
   "source": [
    "> 13.2 Trate as colunas de latitude e longitude, transformando-as de string para float. (ex: '-47.865.095.411.000' de ser transformado em -47.865095411000)"
   ]
  },
  {
   "cell_type": "markdown",
   "metadata": {},
   "source": [
    "> 13.3 Transforme dist_oae em um GeoDataFrame e no parâmetro geometry passe a função do geopandas points_fromn_xy com as informações de longitude e latitude em fortmato de serie."
   ]
  },
  {
   "cell_type": "markdown",
   "metadata": {},
   "source": [
    "___\n",
    "#### 14. Usando os pontos em geometry do GeoDataFrame dist_oae monte um mapa utilizando folium que contenha todas as obras de artes especiais (dica: para extrair a latitude ou longitude de um ponto basta utilizar os métodos .x ou .y). Adicione no tooltip de cada Marker o tipo da OAE."
   ]
  },
  {
   "cell_type": "code",
   "execution_count": null,
   "metadata": {},
   "outputs": [],
   "source": []
  },
  {
   "cell_type": "markdown",
   "metadata": {},
   "source": [
    "___\n",
    "#### 15. Descruba a distância entre a OAE de código 1 e todas as outras OAE (utilize o método .distance de cada point em geometry). Crie um subplot com 2 gráficos, o primeiro deverá conter um histograma de todas as distâncias e o segundo deverá ser um boxplot de todas as distâncias."
   ]
  },
  {
   "cell_type": "code",
   "execution_count": null,
   "metadata": {},
   "outputs": [],
   "source": []
  },
  {
   "cell_type": "code",
   "execution_count": null,
   "metadata": {},
   "outputs": [],
   "source": []
  },
  {
   "cell_type": "code",
   "execution_count": null,
   "metadata": {},
   "outputs": [],
   "source": []
  },
  {
   "cell_type": "code",
   "execution_count": null,
   "metadata": {},
   "outputs": [],
   "source": []
  },
  {
   "cell_type": "code",
   "execution_count": null,
   "metadata": {},
   "outputs": [],
   "source": []
  },
  {
   "cell_type": "code",
   "execution_count": null,
   "metadata": {},
   "outputs": [],
   "source": []
  },
  {
   "cell_type": "code",
   "execution_count": null,
   "metadata": {},
   "outputs": [],
   "source": []
  },
  {
   "cell_type": "code",
   "execution_count": null,
   "metadata": {},
   "outputs": [],
   "source": []
  },
  {
   "cell_type": "code",
   "execution_count": null,
   "metadata": {},
   "outputs": [],
   "source": [
    "infracao_mais_comum .query(\"infrator == 'Condutor'\").tipo_infracao.value_counts()"
   ]
  },
  {
   "cell_type": "code",
   "execution_count": null,
   "metadata": {},
   "outputs": [],
   "source": [
    "mask01 = condutor[\"tipo_infracao\"] == '7455-0'\n",
    "infracao = condutor[mask01]"
   ]
  },
  {
   "cell_type": "code",
   "execution_count": null,
   "metadata": {},
   "outputs": [],
   "source": [
    "infracao[\"hora_cometimento\"].value_counts()"
   ]
  },
  {
   "cell_type": "code",
   "execution_count": null,
   "metadata": {},
   "outputs": [],
   "source": [
    "# Filtrando através de condicionais\n",
    "df_transito[(df_transito[\"tipo_infrator\"] == 'Condutor') & (df_transito[\"tipo_infracao\"] == '7455-0') & (df_transito[\"hora_cometimento\"] == '12:51')]"
   ]
  },
  {
   "cell_type": "code",
   "execution_count": null,
   "metadata": {},
   "outputs": [],
   "source": [
    "# Filtrando através de uma query\n",
    "df_transito.query(\"tipo_infrator == 'Condutor' & tipo_infracao == '7455-0' & hora_cometimento == '12:51'\")"
   ]
  },
  {
   "cell_type": "code",
   "execution_count": null,
   "metadata": {},
   "outputs": [],
   "source": [
    "df_transito"
   ]
  },
  {
   "cell_type": "code",
   "execution_count": null,
   "metadata": {},
   "outputs": [],
   "source": []
  },
  {
   "cell_type": "code",
   "execution_count": null,
   "metadata": {},
   "outputs": [],
   "source": []
  },
  {
   "cell_type": "code",
   "execution_count": null,
   "metadata": {},
   "outputs": [],
   "source": []
  },
  {
   "cell_type": "code",
   "execution_count": null,
   "metadata": {},
   "outputs": [],
   "source": []
  },
  {
   "cell_type": "code",
   "execution_count": null,
   "metadata": {},
   "outputs": [],
   "source": []
  },
  {
   "cell_type": "code",
   "execution_count": null,
   "metadata": {},
   "outputs": [],
   "source": []
  },
  {
   "cell_type": "code",
   "execution_count": null,
   "metadata": {},
   "outputs": [],
   "source": [
    "df_transito[(df_transito[3] == 'bicicleta') | (df_transito[3] == 'BICICLETA')]"
   ]
  },
  {
   "cell_type": "code",
   "execution_count": null,
   "metadata": {},
   "outputs": [],
   "source": []
  }
 ],
 "metadata": {
  "kernelspec": {
   "display_name": "Python 3",
   "language": "python",
   "name": "python3"
  },
  "language_info": {
   "codemirror_mode": {
    "name": "ipython",
    "version": 3
   },
   "file_extension": ".py",
   "mimetype": "text/x-python",
   "name": "python",
   "nbconvert_exporter": "python",
   "pygments_lexer": "ipython3",
   "version": "3.7.6"
  }
 },
 "nbformat": 4,
 "nbformat_minor": 4
}
