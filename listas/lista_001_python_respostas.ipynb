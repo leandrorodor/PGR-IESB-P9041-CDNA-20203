{
  "nbformat": 4,
  "nbformat_minor": 0,
  "metadata": {
    "colab": {
      "name": "Untitled5.ipynb",
      "provenance": [],
      "authorship_tag": "ABX9TyOTkrcJL3pcS+onNFzYJjGO",
      "include_colab_link": true
    },
    "kernelspec": {
      "name": "python3",
      "display_name": "Python 3"
    }
  },
  "cells": [
    {
      "cell_type": "markdown",
      "metadata": {
        "id": "view-in-github",
        "colab_type": "text"
      },
      "source": [
        "<a href=\"https://colab.research.google.com/github/leandrorodor/PGR-IESB-P9041-CDNA-20203/blob/master/lista_01.ipynb\" target=\"_parent\"><img src=\"https://colab.research.google.com/assets/colab-badge.svg\" alt=\"Open In Colab\"/></a>"
      ]
    },
    {
      "cell_type": "markdown",
      "metadata": {
        "id": "ZkA_wLSb60fW",
        "colab_type": "text"
      },
      "source": [
        "Lista 01 - Python\n",
        "\n",
        "\n",
        "---\n",
        "\n"
      ]
    },
    {
      "cell_type": "markdown",
      "metadata": {
        "id": "UDzGKyli66Vt",
        "colab_type": "text"
      },
      "source": [
        "#### 1 - Execute todas as operações aritiméticas básicas (adição, subtração, divisão e multiplicação) com as variáveis 'a' e 'b' abaixo."
      ]
    },
    {
      "cell_type": "code",
      "metadata": {
        "id": "23Ms-Rak6zWq",
        "colab_type": "code",
        "colab": {}
      },
      "source": [
        "a = 15\n",
        "b = 12\n",
        "\n",
        "soma=(a + b) # Adição\n",
        "print(soma)\n",
        "\n",
        "sub=(a - b) # Subtração\n",
        "print(sub)\n",
        "\n",
        "mult=(a * b) # Multiplicação\n",
        "print(mult)\n",
        "\n",
        "div=(a / b) # Divisão\n",
        "print(div)\n",
        "\n",
        "inteiro=(a // b) # Parte inteiro\n",
        "print(inteiro)\n",
        "\n",
        "modulo=(a % b) # Módulo\n",
        "print(resto)\n",
        "\n",
        "exp=(a ** b) # Exponenciação\n",
        "print(exp)\n"
      ],
      "execution_count": null,
      "outputs": []
    },
    {
      "cell_type": "markdown",
      "metadata": {
        "id": "7U9Rwgjm67Lf",
        "colab_type": "text"
      },
      "source": [
        "#### 2 - Tente calcular o seu IMC utilizando somente operações matemáticas. Dica: o IMC é calculado da seguinte forma: IMC = peso / (altura em metros * altura em metros)c"
      ]
    },
    {
      "cell_type": "code",
      "metadata": {
        "id": "L7GfA_2G67nG",
        "colab_type": "code",
        "colab": {
          "base_uri": "https://localhost:8080/",
          "height": 34
        },
        "outputId": "0e1b1509-b7a4-4880-99eb-c6d29a8a12ea"
      },
      "source": [
        "def imc(peso,altura):\n",
        "    print(\"Seu IMC é:\",peso/altura ** altura)  \n",
        "\n",
        "imc(110,1.85)"
      ],
      "execution_count": null,
      "outputs": [
        {
          "output_type": "stream",
          "text": [
            "Seu IMC é: 35.24722960752854\n"
          ],
          "name": "stdout"
        }
      ]
    },
    {
      "cell_type": "markdown",
      "metadata": {
        "id": "4_4oW5Qz6751",
        "colab_type": "text"
      },
      "source": [
        "#### 3 - Sua professora de português pediu para você escrever a frase 'português é maravilhoso' 50 vezes. Como resolver esse problema com python? Demonstre sua solução."
      ]
    },
    {
      "cell_type": "code",
      "metadata": {
        "id": "R5huPMJD68H9",
        "colab_type": "code",
        "colab": {}
      },
      "source": [
        "for i in range(50):\n",
        "    print(\"português é maravilhoso\")"
      ],
      "execution_count": null,
      "outputs": []
    },
    {
      "cell_type": "markdown",
      "metadata": {
        "id": "07k5UY4u68Xj",
        "colab_type": "text"
      },
      "source": [
        "#### 4 - Um modelo de regressão linear possui a seguinte fórmula: y=0.253*x + 125. Qual será o valor de Y quando X for 125?"
      ]
    },
    {
      "cell_type": "code",
      "metadata": {
        "id": "ObB-nUrz68kB",
        "colab_type": "code",
        "colab": {}
      },
      "source": [
        "def reg(x):\n",
        "    return (0.253*x+125)\n",
        "y = reg(125)\n",
        "print(y)"
      ],
      "execution_count": null,
      "outputs": []
    },
    {
      "cell_type": "markdown",
      "metadata": {
        "id": "pfE9JPjf68vw",
        "colab_type": "text"
      },
      "source": [
        "#### 5 - Qual é raiz cubica de 144? Utilize somente operações python apresentadas neste notebook.c"
      ]
    },
    {
      "cell_type": "code",
      "metadata": {
        "id": "wfDR_NOe686e",
        "colab_type": "code",
        "colab": {
          "base_uri": "https://localhost:8080/",
          "height": 34
        },
        "outputId": "11621460-4775-4016-cbad-6a75e7258551"
      },
      "source": [
        "def r_cub(x):\n",
        "    return (x**(1./3.))\n",
        "\n",
        "x = r_cub(144)\n",
        "print(x)  "
      ],
      "execution_count": null,
      "outputs": [
        {
          "output_type": "stream",
          "text": [
            "5.241482788417793\n"
          ],
          "name": "stdout"
        }
      ]
    },
    {
      "cell_type": "markdown",
      "metadata": {
        "id": "4X4XPs0o69FH",
        "colab_type": "text"
      },
      "source": [
        "#### 6 - Nossa matéria terá dois trabalhos! Os pesos são, respectivamente, 4 e 6. Imagine que você tenha tirado 8.2 no primeiro projeto e 3.3 no segundo projeto. Levando em consideração sua nota final e os pesos, você tirou uma média maior que 5?"
      ]
    },
    {
      "cell_type": "code",
      "metadata": {
        "id": "CsTZZily69O8",
        "colab_type": "code",
        "colab": {
          "base_uri": "https://localhost:8080/",
          "height": 34
        },
        "outputId": "270a9bde-dc46-4f19-9d30-c4400ea33139"
      },
      "source": [
        "p1 = 4\n",
        "p2 = 6\n",
        "def nota(n1,n2):\n",
        "    media_ponderada = ((n1*p1)+(n2*p2)/p1+p2)/10\n",
        "\n",
        "    if (media_ponderada <= 5):\n",
        "        print(\"Sua média é insuficiente - \",media_ponderada)\n",
        "    else:\n",
        "        print(\"Você foi aprovado - \",media_ponderada)\n",
        "\n",
        "nota(8.2,3.3)"
      ],
      "execution_count": null,
      "outputs": [
        {
          "output_type": "stream",
          "text": [
            "Sua média é insuficiente -  4.375\n"
          ],
          "name": "stdout"
        }
      ]
    },
    {
      "cell_type": "markdown",
      "metadata": {
        "id": "T694etAR69Yf",
        "colab_type": "text"
      },
      "source": [
        "#### 7 - Crie uma lista 'a_list' com os seguintes valores: 1, hello, [1,2,3] e True."
      ]
    },
    {
      "cell_type": "code",
      "metadata": {
        "id": "_f7j5ttG69gv",
        "colab_type": "code",
        "colab": {}
      },
      "source": [
        "a_list=[1,\"hello\",[1,2,3],True]"
      ],
      "execution_count": null,
      "outputs": []
    },
    {
      "cell_type": "markdown",
      "metadata": {
        "id": "mRKheQnz69on",
        "colab_type": "text"
      },
      "source": [
        "#### 8 - Ache o valor em 'a_list' que esteja no índice -1."
      ]
    },
    {
      "cell_type": "code",
      "metadata": {
        "id": "Pqi5f8-269vP",
        "colab_type": "code",
        "colab": {}
      },
      "source": [
        "a_list[-1]"
      ],
      "execution_count": null,
      "outputs": []
    },
    {
      "cell_type": "markdown",
      "metadata": {
        "id": "imUsGwqw692J",
        "colab_type": "text"
      },
      "source": [
        "#### 9 - Encontre os valores em 'a_list' que estejam nos indices 1,2 e 3."
      ]
    },
    {
      "cell_type": "code",
      "metadata": {
        "id": "D3OXLI9O6-AH",
        "colab_type": "code",
        "colab": {}
      },
      "source": [
        "a_list[1:4]"
      ],
      "execution_count": null,
      "outputs": []
    },
    {
      "cell_type": "markdown",
      "metadata": {
        "id": "pyL1bl4x6-Im",
        "colab_type": "text"
      },
      "source": [
        "#### 10 - Junte as seguinte listas a=[1,2,3,4,5] e b=[11,12,13,14,15]c"
      ]
    },
    {
      "cell_type": "code",
      "metadata": {
        "id": "HwMeHkAZ6-Pg",
        "colab_type": "code",
        "colab": {}
      },
      "source": [
        "a=[1,2,3,4,5]\n",
        "b=[11,12,13,14,15]\n",
        "\n",
        "c=a+b\n",
        "print(c)"
      ],
      "execution_count": null,
      "outputs": []
    },
    {
      "cell_type": "markdown",
      "metadata": {
        "id": "YXI9SXgP6-W-",
        "colab_type": "text"
      },
      "source": [
        "#### 11 - Crie uma lista de listas 'list_list' que tenha os valores de 'a_list', 'a' e 'b'c"
      ]
    },
    {
      "cell_type": "code",
      "metadata": {
        "id": "khoGZ5KQ6-do",
        "colab_type": "code",
        "colab": {}
      },
      "source": [
        "list_list=[a_list,a,b]\n",
        "\n",
        "list_list\n"
      ],
      "execution_count": null,
      "outputs": []
    },
    {
      "cell_type": "markdown",
      "metadata": {
        "id": "uZNBgXhv6-kX",
        "colab_type": "text"
      },
      "source": [
        "#### 12 - Qual o tamanho de 'list_list'?"
      ]
    },
    {
      "cell_type": "code",
      "metadata": {
        "id": "3CugovA86-wn",
        "colab_type": "code",
        "colab": {}
      },
      "source": [
        "len(list_list)"
      ],
      "execution_count": null,
      "outputs": []
    },
    {
      "cell_type": "markdown",
      "metadata": {
        "id": "MZlrsWuUDT0i",
        "colab_type": "text"
      },
      "source": [
        "#### 13 - Adicione o valor 125 ao final de 'list_list'"
      ]
    },
    {
      "cell_type": "code",
      "metadata": {
        "id": "V99qezIfDT--",
        "colab_type": "code",
        "colab": {}
      },
      "source": [
        "list_list.append(125)\n",
        "\n",
        "list_list"
      ],
      "execution_count": null,
      "outputs": []
    },
    {
      "cell_type": "markdown",
      "metadata": {
        "id": "JxLi6W5_DUI3",
        "colab_type": "text"
      },
      "source": [
        "#### 14 - Remova a lista [1,2,3] de 'list_list' e guarde esse valor numa variável 'list_a'."
      ]
    },
    {
      "cell_type": "code",
      "metadata": {
        "id": "pj_XG6oSDUT-",
        "colab_type": "code",
        "colab": {}
      },
      "source": [
        "list_a=list_list[0][2]\n",
        "\n",
        "list_a"
      ],
      "execution_count": null,
      "outputs": []
    },
    {
      "cell_type": "markdown",
      "metadata": {
        "id": "xBuwL--PDUW8",
        "colab_type": "text"
      },
      "source": [
        "#### 15 - Qual é o primeiro valor do segundo valor de [[1,3,5,7],[2,4,6,8,10]]?"
      ]
    },
    {
      "cell_type": "code",
      "metadata": {
        "id": "7WGeNRU5DUhC",
        "colab_type": "code",
        "colab": {}
      },
      "source": [
        "valor=[[1,3,5,7],[2,4,6,8,10]]\n",
        "valor[1][0]"
      ],
      "execution_count": null,
      "outputs": []
    },
    {
      "cell_type": "markdown",
      "metadata": {
        "id": "KV4pL0K8DwgS",
        "colab_type": "text"
      },
      "source": [
        "#### 16 - Crie a tupla 'gnr' com os seguintes valores: rock, metal, sertanejo, pop, lo-fi e chillwave, nessa ordem."
      ]
    },
    {
      "cell_type": "code",
      "metadata": {
        "id": "34qy41AjDU1c",
        "colab_type": "code",
        "colab": {}
      },
      "source": [
        "grn=(\"rock\", \"metal\", \"sertanejo\", \"pop\",\"lo-fi\",\"chillwave\")c"
      ],
      "execution_count": null,
      "outputs": []
    },
    {
      "cell_type": "markdown",
      "metadata": {
        "id": "72Lt1mIWDVCS",
        "colab_type": "text"
      },
      "source": [
        "#### 17 - Qual o terceiro valor da tupla 'gnr'"
      ]
    },
    {
      "cell_type": "code",
      "metadata": {
        "id": "FXk5Bi9EED7F",
        "colab_type": "code",
        "colab": {}
      },
      "source": [
        "grn[2]"
      ],
      "execution_count": null,
      "outputs": []
    },
    {
      "cell_type": "markdown",
      "metadata": {
        "id": "eZ7zuOmqFDN9",
        "colab_type": "text"
      },
      "source": [
        "#### 18 - Qual o índice de lofi?"
      ]
    },
    {
      "cell_type": "code",
      "metadata": {
        "id": "bG3UBj_qFDod",
        "colab_type": "code",
        "colab": {}
      },
      "source": [
        "grn.index(\"lo-fi\")"
      ],
      "execution_count": null,
      "outputs": []
    },
    {
      "cell_type": "markdown",
      "metadata": {
        "id": "Liai2q3bDVR2",
        "colab_type": "text"
      },
      "source": [
        "#### 19 - Crie uma tupla de tuplas com as seguintes tuplas (15,30), (20,40) e (25,50). Como acessar o valor 40?"
      ]
    },
    {
      "cell_type": "code",
      "metadata": {
        "id": "Vy2ebes3DVfm",
        "colab_type": "code",
        "colab": {}
      },
      "source": [
        "tupla=((15,30),(20,40),(25,50))"
      ],
      "execution_count": null,
      "outputs": []
    },
    {
      "cell_type": "markdown",
      "metadata": {
        "id": "WfXB08HIENm3",
        "colab_type": "text"
      },
      "source": [
        "#### 20 - Acesse a tupla 'gnr' a cada dois valores, qual gêneros musicais aparecem?"
      ]
    },
    {
      "cell_type": "code",
      "metadata": {
        "id": "RPDwKeGhDVHo",
        "colab_type": "code",
        "colab": {}
      },
      "source": [
        "grn[:2] #Slice"
      ],
      "execution_count": null,
      "outputs": []
    },
    {
      "cell_type": "markdown",
      "metadata": {
        "id": "SGjhICnEEVRw",
        "colab_type": "text"
      },
      "source": [
        "#### 21 - Crie o dicionário 'mcu' com os seguintes dados, 'Homem de Ferro':2008, 'Homem de Ferro 2':2010, 'Homem de ferro 3':2013, 'Avengers: Endgame':2019."
      ]
    },
    {
      "cell_type": "code",
      "metadata": {
        "id": "f6vuDVtJEVqA",
        "colab_type": "code",
        "colab": {}
      },
      "source": [
        "mcu={'Homem de Ferro':2008, 'Homem de Ferro 2':2010, 'Homem de ferro 3':2013, 'Avengers: Endgame':2019}c"
      ],
      "execution_count": null,
      "outputs": []
    },
    {
      "cell_type": "markdown",
      "metadata": {
        "id": "p3trPBScEV80",
        "colab_type": "text"
      },
      "source": [
        "##### a - No dicionário 'mcu' quais são os valores?"
      ]
    },
    {
      "cell_type": "code",
      "metadata": {
        "id": "wYqoQNU9EWTT",
        "colab_type": "code",
        "colab": {}
      },
      "source": [
        "mcu.values()\n"
      ],
      "execution_count": null,
      "outputs": []
    },
    {
      "cell_type": "markdown",
      "metadata": {
        "id": "9LiN3HuCDUzZ",
        "colab_type": "text"
      },
      "source": [
        "##### b - No dicińario 'mcu' quais são as chaves?"
      ]
    },
    {
      "cell_type": "code",
      "metadata": {
        "id": "kAsy8qs0EvDh",
        "colab_type": "code",
        "colab": {}
      },
      "source": [
        "mcu.keys()"
      ],
      "execution_count": null,
      "outputs": []
    },
    {
      "cell_type": "markdown",
      "metadata": {
        "id": "8nQlM8quEyKN",
        "colab_type": "text"
      },
      "source": [
        "##### c - Adicione ao dicionário 'mcu' os seguintes filmes: 'Avengers Infinity War':2018, 'Avengers Age of Ultron':2015."
      ]
    },
    {
      "cell_type": "code",
      "metadata": {
        "id": "Cuw2l4-dEyhe",
        "colab_type": "code",
        "colab": {}
      },
      "source": [
        "mcu.update({'Avengers Infinity War':2018, 'Avengers Age of Ultron':2015})\n",
        "\n",
        "mcu"
      ],
      "execution_count": null,
      "outputs": []
    },
    {
      "cell_type": "markdown",
      "metadata": {
        "id": "aU7W5LOPEy1S",
        "colab_type": "text"
      },
      "source": [
        "##### d - Delete o filme 'Homem de Ferro 3' do dicionário 'mcu'"
      ]
    },
    {
      "cell_type": "code",
      "metadata": {
        "id": "CQ8X_R_LEzNS",
        "colab_type": "code",
        "colab": {}
      },
      "source": [
        "list(mcu.keys())\n",
        "\n",
        "mcu.pop('Homem de ferro 3')"
      ],
      "execution_count": null,
      "outputs": []
    },
    {
      "cell_type": "markdown",
      "metadata": {
        "id": "XocvomXiEzlX",
        "colab_type": "text"
      },
      "source": [
        "##### e - Limpe o dicionário 'mcu'"
      ]
    },
    {
      "cell_type": "code",
      "metadata": {
        "id": "rLgjIgK1Ez8a",
        "colab_type": "code",
        "colab": {}
      },
      "source": [
        "mcu.clear()"
      ],
      "execution_count": null,
      "outputs": []
    },
    {
      "cell_type": "markdown",
      "metadata": {
        "id": "f6orBoBiE0Ub",
        "colab_type": "text"
      },
      "source": [
        "#### 22 - Popule o dicionário vazio 'mcu' com as informações abaixo:c"
      ]
    },
    {
      "cell_type": "code",
      "metadata": {
        "id": "BeFiBOAIE0uG",
        "colab_type": "code",
        "colab": {}
      },
      "source": [
        "mcu={'homem de ferro':{'filmes':3,'ator principal':'Robert Downey Jr.'},'Cpt.América':{'filmes':3,'ator principal':'Chris Evans'}}"
      ],
      "execution_count": null,
      "outputs": []
    },
    {
      "cell_type": "markdown",
      "metadata": {
        "id": "_YXgamWSFdTn",
        "colab_type": "text"
      },
      "source": [
        "#### 23 - Acesse somente a quantidade de filmes de cada uma das chaves do dicionário MCU."
      ]
    },
    {
      "cell_type": "code",
      "metadata": {
        "id": "Gv3RsFfWFdxv",
        "colab_type": "code",
        "colab": {}
      },
      "source": [
        "mcu[\"homem de ferro\"][\"filmes\"]\n",
        "\n",
        "mcu[\"Cpt.América\"][\"filmes\"]"
      ],
      "execution_count": null,
      "outputs": []
    },
    {
      "cell_type": "markdown",
      "metadata": {
        "id": "AmJqjGvDFlLC",
        "colab_type": "text"
      },
      "source": [
        "#### 24 - Quais são as chaves do dicionário de dicionários 'mcu'?"
      ]
    },
    {
      "cell_type": "code",
      "metadata": {
        "id": "FhbA0RbhFlwX",
        "colab_type": "code",
        "colab": {}
      },
      "source": [
        "mcu.keys()"
      ],
      "execution_count": null,
      "outputs": []
    },
    {
      "cell_type": "markdown",
      "metadata": {
        "id": "bl2v4Tb3Ft0N",
        "colab_type": "text"
      },
      "source": [
        "#### 25 - Qual o tamanho do dicionário de dicionários 'mcu'?"
      ]
    },
    {
      "cell_type": "code",
      "metadata": {
        "id": "CVTFtSjNFuaY",
        "colab_type": "code",
        "colab": {}
      },
      "source": [
        "len(mcu)"
      ],
      "execution_count": null,
      "outputs": []
    },
    {
      "cell_type": "markdown",
      "metadata": {
        "id": "AG_n6CTqF4Z_",
        "colab_type": "text"
      },
      "source": [
        "#### 26 - Escreva uma função python que receba uma lista e separe os múltiplos de 5. Ao final ela retorna a soma de todos os valores da lista de entrada que são múltiplos de 5."
      ]
    },
    {
      "cell_type": "code",
      "metadata": {
        "id": "scziCFEgF5Cw",
        "colab_type": "code",
        "colab": {
          "base_uri": "https://localhost:8080/",
          "height": 34
        },
        "outputId": "59609e68-9289-4c52-a940-e6ebd9755587"
      },
      "source": [
        "def somaMultiplos(lista, valorMultiplo):\n",
        "    soma = 0    \n",
        "    for i in lista:\n",
        "        if i % valorMultiplo == 0:\n",
        "            soma  = soma + i\n",
        "    return soma\n",
        "x = (somaMultiplos(range(100),5))\n",
        "print(x)"
      ],
      "execution_count": 1,
      "outputs": [
        {
          "output_type": "stream",
          "text": [
            "950\n"
          ],
          "name": "stdout"
        }
      ]
    },
    {
      "cell_type": "markdown",
      "metadata": {
        "id": "WPZ6PuGFCLd2",
        "colab_type": "text"
      },
      "source": [
        "27 - Escreva uma função para verificar se uma palavra é um palíndromo e retorne 1 em casos positivos e zero em casos negativos."
      ]
    },
    {
      "cell_type": "code",
      "metadata": {
        "id": "mF15M9coCLzT",
        "colab_type": "code",
        "colab": {
          "base_uri": "https://localhost:8080/",
          "height": 34
        },
        "outputId": "77848d28-324d-427d-dfdb-5b7ea16fbee1"
      },
      "source": [
        "def palindromo(palavra):\n",
        "    ls = []                                    # Lista vazia para receber as letras da palavra informada\n",
        "    count = 1                                  # contador para marcar as posições das letras\n",
        "    for i in range(0,len(palavra)):            # Laço para percorrer toda a palavra\n",
        "        ls.append(palavra[len(palavra)-count]) # inserindo na lista de tras para frente (tamanho - 1), por isso o contador inicia em 1 e não em 0\n",
        "        count += 1                             # Incrementa o contador\n",
        "    ls = ''.join(ls)                           # Convrte a lista em String\n",
        "    if ls == palavra:                          # Compara se são iguais\n",
        "       return 1\n",
        "    else:\n",
        "        return 0\n",
        "a = palindromo('rodor')\n",
        "print(a)"
      ],
      "execution_count": 3,
      "outputs": [
        {
          "output_type": "stream",
          "text": [
            "1\n"
          ],
          "name": "stdout"
        }
      ]
    },
    {
      "cell_type": "markdown",
      "metadata": {
        "id": "k1mwPLMDCMGS",
        "colab_type": "text"
      },
      "source": [
        "28 - Escreva uma função que receba uma lista crie um dicionário com a contagem dos valores dessa lista."
      ]
    },
    {
      "cell_type": "code",
      "metadata": {
        "id": "iW-zswhmCMbv",
        "colab_type": "code",
        "colab": {
          "base_uri": "https://localhost:8080/",
          "height": 34
        },
        "outputId": "cdfbbed9-ff07-4e86-feba-873341985c21"
      },
      "source": [
        "lista = ['123','456','789','101112','131415']\n",
        "def criaDicionario(lista):\n",
        "    dicionario = {}\n",
        "    for i in range(len(lista)):       \n",
        "        dicionario.update({lista[i-1]: len(lista[i-1])})\n",
        "    return dicionario   \n",
        "criaDicionario(lista)"
      ],
      "execution_count": 4,
      "outputs": [
        {
          "output_type": "execute_result",
          "data": {
            "text/plain": [
              "{'101112': 6, '123': 3, '131415': 6, '456': 3, '789': 3}"
            ]
          },
          "metadata": {
            "tags": []
          },
          "execution_count": 4
        }
      ]
    },
    {
      "cell_type": "markdown",
      "metadata": {
        "id": "tZWAtpmVCMwH",
        "colab_type": "text"
      },
      "source": [
        "29 - Escreva uma função que receba uma lista de listas, itere sobre cada lista, some seus valores, gere uma segunda lista e descubra o desvio padrão dela."
      ]
    },
    {
      "cell_type": "code",
      "metadata": {
        "id": "IUbq-DklCNES",
        "colab_type": "code",
        "colab": {
          "base_uri": "https://localhost:8080/",
          "height": 51
        },
        "outputId": "4d44864d-1f58-401f-af47-814f91cc6385"
      },
      "source": [
        "import statistics as sts\n",
        "\n",
        "entrada = [[12,12,5,6,3,6,8,5,5,5],[3,3,3,3,4,4,15,89,20,20],[15,15,15,20,30,35,35,35,15,15],[10,10,10,10,15,15,15,15],[5,5,2,2],[8,8,89,89,898,1000]]\n",
        "\n",
        "def desvioPadrao(entrada):\n",
        "    soma = 0\n",
        "    lista2 = []\n",
        "    for i in range(len(entrada)):\n",
        "        for j in range(len(entrada[i])):\n",
        "            soma += entrada[i][j]\n",
        "            lista2.append(entrada[i][j])\n",
        "    print(\"Soma de todos os valores   = \",soma)\n",
        "    print(\"Desvio padrão              = \", sts.stdev(lista2))\n",
        "            \n",
        "desvioPadrao(entrada)\n",
        "        "
      ],
      "execution_count": 29,
      "outputs": [
        {
          "output_type": "stream",
          "text": [
            "Soma de todos os valores   =  2667\n",
            "Desvio padrão              =  189.6914522967972\n"
          ],
          "name": "stdout"
        }
      ]
    },
    {
      "cell_type": "markdown",
      "metadata": {
        "id": "6tsYvR2sCNW7",
        "colab_type": "text"
      },
      "source": [
        "30 - Escreva uma função que gere uma sequencia de Fibonnaci. O único parâmetro é a quantidade de números que devem gerados. (Fibonnaci é uma sequencia onde o próximo número é a soma dos dois imediatamente anteriores a ele)."
      ]
    },
    {
      "cell_type": "code",
      "metadata": {
        "id": "RFuqqQ_DCNpe",
        "colab_type": "code",
        "colab": {
          "base_uri": "https://localhost:8080/",
          "height": 51
        },
        "outputId": "9372d8e0-11e6-4013-8529-a3fed6104a46"
      },
      "source": [
        "def sequenciaFibonaci(qtd):\n",
        "    ultimo = 1\n",
        "    penultimo = 1\n",
        "    for i in range(2,qtd):\n",
        "        valor = ultimo + penultimo\n",
        "        penultimo = ultimo\n",
        "        ultimo = valor\n",
        "        i += 1\n",
        "    return valor\n",
        "print(\"Numeros gerados:\",sequenciaFibonaci(int(input(\"Informe o parametro: \"))))"
      ],
      "execution_count": 7,
      "outputs": [
        {
          "output_type": "stream",
          "text": [
            "Informe o parametro: 10\n",
            "Numeros gerados: 55\n"
          ],
          "name": "stdout"
        }
      ]
    },
    {
      "cell_type": "markdown",
      "metadata": {
        "id": "Gs5VlHoUCN7g",
        "colab_type": "text"
      },
      "source": [
        "#### 31 - Monte uma função que vai calcular e comparar os custos de uma viagem para 3 cidades diferentes e que, ao final, irá recomendar qual é o destino mais barato. Essa função deve receber somente uma parâmetro 'noites'. A partir desse argumento a função deve calcular o custo total de viagem para cada uma das cidades. Utilize os dados abaixo.\n",
        "\n",
        "|   Cidade  | Hotel/noite | Alimentação/noite | Locomoção/noite |\n",
        "|:---------:|:-----------:|:-----------------:|:---------------:|\n",
        "| Abu Dhabi |     1300    |        200        |       150       |\n",
        "|  Genebra  |     1200    |        150        |        80       |\n",
        "|    Oslo   |     1000    |        250        |       100       |"
      ]
    },
    {
      "cell_type": "code",
      "metadata": {
        "id": "cYXFXZHICOOG",
        "colab_type": "code",
        "colab": {
          "base_uri": "https://localhost:8080/",
          "height": 34
        },
        "outputId": "a0770aae-b386-4566-af14-1ee2474b0788"
      },
      "source": [
        "cotacao={'Abu Dhabi':\n",
        "                {'Hotel/noite':       1300,\n",
        "                 'Alimentação/noite':  150, \n",
        "                 'Locomoção/noite':    150},\n",
        "        'Genebra':\n",
        "                {'Hotel/noite':       1200,\n",
        "                 'Alimentação/noite':  150, \n",
        "                 'Locomoção/noite':     80},\n",
        "        'Oslo':\n",
        "                {'Hotel/noite':       1000,\n",
        "                 'Alimentação/noite':  250, \n",
        "                'Locomoção/noite':     100}\n",
        "    }\n",
        "def obterCotacao(noites):\n",
        "    soma = 0\n",
        "    lst = []\n",
        "    menorValor = 0\n",
        "    maiorValor = 0\n",
        "    melhorDestino = ''\n",
        "    for i in cotacao:\n",
        "        for j in cotacao[i].values():\n",
        "            soma = soma + j       \n",
        "        if menorValor == 0 :\n",
        "            menorValor = soma\n",
        "            melhorDestino = i\n",
        "        else:\n",
        "            if (menorValor >= soma):\n",
        "                menorValor = soma\n",
        "                melhorDestino = i\n",
        "        soma = 0\n",
        "    print(\"O melhor destino é ;\", melhorDestino,\"Por R$: \",menorValor * noites,\"Para \", noites,\"noites\" )\n",
        "    \n",
        "obterCotacao(1)\n"
      ],
      "execution_count": 8,
      "outputs": [
        {
          "output_type": "stream",
          "text": [
            "O melhor destino é ; Oslo Por R$:  1350 Para  1 noites\n"
          ],
          "name": "stdout"
        }
      ]
    },
    {
      "cell_type": "markdown",
      "metadata": {
        "id": "Qb6FePTzD-2g",
        "colab_type": "text"
      },
      "source": [
        "32 - Defina uma função que calcule o z-score de todos os valores de uma lista e encontre quem são os outliers (z-score abaixo de -3 e acima de 3). Use a lista abaixo:"
      ]
    },
    {
      "cell_type": "code",
      "metadata": {
        "id": "xXkqQ79OD_Fy",
        "colab_type": "code",
        "colab": {}
      },
      "source": [
        "lista8 = [201, 102, -5558, 232, 213, -9249, -247, 1183, 211, 7598, 130, 61, 192, 207, -46, 170, 116, 106, 225, 75, 138, 107, 108, -33, -9, 170, \n",
        "          147, 175, 137, -5, -9, 16600, 171, 183, 147, 171, 143, 104, 7, 227, 127, 173, 178, 194, 110, 20, 99, 11, 41, 242, 250, 62, 230, -32, \n",
        "          239, 241, 30, -35, 132, 214, 58, 90, -12, -24, 177, 116, 53, -26, 144, 29, 41, 217, 114, 109, -15, 32, 110, 162, 221, -16, 210, 87, 76, \n",
        "          3100, 73, 174, 194, 93, -9, 241, 234,  79, -4800, -22, -41, 224, 249, 114, -29, 79]"
      ],
      "execution_count": 9,
      "outputs": []
    },
    {
      "cell_type": "code",
      "metadata": {
        "id": "M7WsJcrFEKWT",
        "colab_type": "code",
        "colab": {
          "base_uri": "https://localhost:8080/",
          "height": 34
        },
        "outputId": "0b11eaaf-82e8-4911-8e8a-a99f8762d4e7"
      },
      "source": [
        "# z_score = ( Xi - media ) / desvio Padrão\n",
        "import statistics as sts  \n",
        "def verificarOutilier(lst):\n",
        "    z_score = 0\n",
        "    lstOutlier = []\n",
        "    for i in range(len(lst)):\n",
        "        #Calcular o Z-Score de cada item da lista\n",
        "        z_score = (lst[i] - sts.mean(lst)) / (sts.stdev(lst))    \n",
        "        #Verifica quem são os Outilier\n",
        "        if ((z_score < -3) or (z_score > 3)):           \n",
        "            lstOutlier.append(lst[i])\n",
        "    return(lstOutlier)\n",
        "print(\"Os Outilier são \",verificarOutilier(lista8))"
      ],
      "execution_count": 10,
      "outputs": [
        {
          "output_type": "stream",
          "text": [
            "Os Outilier são  [-9249, 7598, 16600]\n"
          ],
          "name": "stdout"
        }
      ]
    },
    {
      "cell_type": "markdown",
      "metadata": {
        "id": "ZraE1E9gD_QI",
        "colab_type": "text"
      },
      "source": [
        "33 - Defina uma função que recebe uma lista aplica a fórmula abaixo a cada um dos valores e retorna uma lista com o resultado."
      ]
    },
    {
      "cell_type": "code",
      "metadata": {
        "id": "mAkk20K2D_ch",
        "colab_type": "code",
        "colab": {
          "base_uri": "https://localhost:8080/",
          "height": 34
        },
        "outputId": "97efe405-8afc-47e8-e156-0507463d7736"
      },
      "source": [
        "# Funçao Xnew = (Xi - min(X)) / max(X) - min(X)\n",
        "def calcularFuncao(lst):\n",
        "    x = 0\n",
        "    lst2 = []\n",
        "    for i in range(len(lst)):\n",
        "        x = (lst[i] - min(lst)) / (max(lst) - min(lst))\n",
        "        lst2.append(x)\n",
        "    return(lst2)\n",
        "print(calcularFuncao([1,2,3,5,7,8,9,10,11,12,13]))"
      ],
      "execution_count": 11,
      "outputs": [
        {
          "output_type": "stream",
          "text": [
            "[0.0, 0.08333333333333333, 0.16666666666666666, 0.3333333333333333, 0.5, 0.5833333333333334, 0.6666666666666666, 0.75, 0.8333333333333334, 0.9166666666666666, 1.0]\n"
          ],
          "name": "stdout"
        }
      ]
    },
    {
      "cell_type": "markdown",
      "metadata": {
        "id": "HhjO839TD_ov",
        "colab_type": "text"
      },
      "source": [
        "34 - Escreva um código que dê print em todos os quadrados dos valores de 0 a 10."
      ]
    },
    {
      "cell_type": "code",
      "metadata": {
        "id": "8VEZsW4wD_1F",
        "colab_type": "code",
        "colab": {
          "base_uri": "https://localhost:8080/",
          "height": 204
        },
        "outputId": "c86cc074-a2b9-4345-bbac-a4c7ffc5ece2"
      },
      "source": [
        "for i in range(10+1):\n",
        "    print('{0} ^ {1} = {2}'.format(i, 2,(i ** 2)))"
      ],
      "execution_count": 12,
      "outputs": [
        {
          "output_type": "stream",
          "text": [
            "0 ^ 2 = 0\n",
            "1 ^ 2 = 1\n",
            "2 ^ 2 = 4\n",
            "3 ^ 2 = 9\n",
            "4 ^ 2 = 16\n",
            "5 ^ 2 = 25\n",
            "6 ^ 2 = 36\n",
            "7 ^ 2 = 49\n",
            "8 ^ 2 = 64\n",
            "9 ^ 2 = 81\n",
            "10 ^ 2 = 100\n"
          ],
          "name": "stdout"
        }
      ]
    },
    {
      "cell_type": "markdown",
      "metadata": {
        "id": "u9X4WdwvEACI",
        "colab_type": "text"
      },
      "source": [
        "35 - Escreva um código que encontre a soma de todos os valores pares de 0 a 10."
      ]
    },
    {
      "cell_type": "code",
      "metadata": {
        "id": "g3yypM-tEAQO",
        "colab_type": "code",
        "colab": {
          "base_uri": "https://localhost:8080/",
          "height": 34
        },
        "outputId": "f9e9d6b0-e855-48d8-a41c-3b54cfcdcc8b"
      },
      "source": [
        "i = 1\n",
        "soma = 0\n",
        "while(i <= 10):\n",
        "    if (i % 2 == 0):\n",
        "        soma = soma + i\n",
        "    i += 1\n",
        "print(soma)    "
      ],
      "execution_count": 13,
      "outputs": [
        {
          "output_type": "stream",
          "text": [
            "30\n"
          ],
          "name": "stdout"
        }
      ]
    },
    {
      "cell_type": "markdown",
      "metadata": {
        "id": "W8ET1qx_EAS6",
        "colab_type": "text"
      },
      "source": [
        "37 - Construa uma função que receba 3 valores (a,b,c) e retorne uma lista com todos os valores entre 'a' e 'b' que são múltiplos de 'c'. Utilize os valores abaixo (10,500,23)."
      ]
    },
    {
      "cell_type": "code",
      "metadata": {
        "id": "j-2EJQGLEAfa",
        "colab_type": "code",
        "colab": {
          "base_uri": "https://localhost:8080/",
          "height": 374
        },
        "outputId": "d3c99985-e718-449c-dd93-0b0866ffa9d2"
      },
      "source": [
        "a = 10\n",
        "b = 500\n",
        "c = 23\n",
        "def multiplos(a,b,c):\n",
        "    lst = []\n",
        "    mult = a\n",
        "    while a < b :\n",
        "        if a % c == 0:            \n",
        "            lst.append(a)\n",
        "        a += 1\n",
        "    return(lst)\n",
        "multiplos(a,b,c)"
      ],
      "execution_count": 14,
      "outputs": [
        {
          "output_type": "execute_result",
          "data": {
            "text/plain": [
              "[23,\n",
              " 46,\n",
              " 69,\n",
              " 92,\n",
              " 115,\n",
              " 138,\n",
              " 161,\n",
              " 184,\n",
              " 207,\n",
              " 230,\n",
              " 253,\n",
              " 276,\n",
              " 299,\n",
              " 322,\n",
              " 345,\n",
              " 368,\n",
              " 391,\n",
              " 414,\n",
              " 437,\n",
              " 460,\n",
              " 483]"
            ]
          },
          "metadata": {
            "tags": []
          },
          "execution_count": 14
        }
      ]
    },
    {
      "cell_type": "markdown",
      "metadata": {
        "id": "wiY4U4oQEAr-",
        "colab_type": "text"
      },
      "source": [
        "#### 38 -Escreva um código para ter o seguinte output:"
      ]
    },
    {
      "cell_type": "code",
      "metadata": {
        "id": "qZ6cHWpOEA5p",
        "colab_type": "code",
        "colab": {
          "base_uri": "https://localhost:8080/",
          "height": 1000
        },
        "outputId": "11acd294-0fdc-427c-aa42-15734b6d1aa2"
      },
      "source": [
        "i = 1\n",
        "j = 99\n",
        "while i < 100:\n",
        "    print(i, \" ---- \", j )\n",
        "    i += 1\n",
        "    j -= 1"
      ],
      "execution_count": 15,
      "outputs": [
        {
          "output_type": "stream",
          "text": [
            "1  ----  99\n",
            "2  ----  98\n",
            "3  ----  97\n",
            "4  ----  96\n",
            "5  ----  95\n",
            "6  ----  94\n",
            "7  ----  93\n",
            "8  ----  92\n",
            "9  ----  91\n",
            "10  ----  90\n",
            "11  ----  89\n",
            "12  ----  88\n",
            "13  ----  87\n",
            "14  ----  86\n",
            "15  ----  85\n",
            "16  ----  84\n",
            "17  ----  83\n",
            "18  ----  82\n",
            "19  ----  81\n",
            "20  ----  80\n",
            "21  ----  79\n",
            "22  ----  78\n",
            "23  ----  77\n",
            "24  ----  76\n",
            "25  ----  75\n",
            "26  ----  74\n",
            "27  ----  73\n",
            "28  ----  72\n",
            "29  ----  71\n",
            "30  ----  70\n",
            "31  ----  69\n",
            "32  ----  68\n",
            "33  ----  67\n",
            "34  ----  66\n",
            "35  ----  65\n",
            "36  ----  64\n",
            "37  ----  63\n",
            "38  ----  62\n",
            "39  ----  61\n",
            "40  ----  60\n",
            "41  ----  59\n",
            "42  ----  58\n",
            "43  ----  57\n",
            "44  ----  56\n",
            "45  ----  55\n",
            "46  ----  54\n",
            "47  ----  53\n",
            "48  ----  52\n",
            "49  ----  51\n",
            "50  ----  50\n",
            "51  ----  49\n",
            "52  ----  48\n",
            "53  ----  47\n",
            "54  ----  46\n",
            "55  ----  45\n",
            "56  ----  44\n",
            "57  ----  43\n",
            "58  ----  42\n",
            "59  ----  41\n",
            "60  ----  40\n",
            "61  ----  39\n",
            "62  ----  38\n",
            "63  ----  37\n",
            "64  ----  36\n",
            "65  ----  35\n",
            "66  ----  34\n",
            "67  ----  33\n",
            "68  ----  32\n",
            "69  ----  31\n",
            "70  ----  30\n",
            "71  ----  29\n",
            "72  ----  28\n",
            "73  ----  27\n",
            "74  ----  26\n",
            "75  ----  25\n",
            "76  ----  24\n",
            "77  ----  23\n",
            "78  ----  22\n",
            "79  ----  21\n",
            "80  ----  20\n",
            "81  ----  19\n",
            "82  ----  18\n",
            "83  ----  17\n",
            "84  ----  16\n",
            "85  ----  15\n",
            "86  ----  14\n",
            "87  ----  13\n",
            "88  ----  12\n",
            "89  ----  11\n",
            "90  ----  10\n",
            "91  ----  9\n",
            "92  ----  8\n",
            "93  ----  7\n",
            "94  ----  6\n",
            "95  ----  5\n",
            "96  ----  4\n",
            "97  ----  3\n",
            "98  ----  2\n",
            "99  ----  1\n"
          ],
          "name": "stdout"
        }
      ]
    },
    {
      "cell_type": "markdown",
      "metadata": {
        "id": "uiUH38ZnFFoc",
        "colab_type": "text"
      },
      "source": [
        "#### 39 - Construa uma função que receba um input e printe um padrão conforme exemplo."
      ]
    },
    {
      "cell_type": "code",
      "metadata": {
        "id": "wnNFQNG2FGBu",
        "colab_type": "code",
        "colab": {
          "base_uri": "https://localhost:8080/",
          "height": 102
        },
        "outputId": "caeac3c9-826c-43b3-fbaf-9494a74a3c64"
      },
      "source": [
        "n = int(input(''))\n",
        "a = '+'\n",
        "i = 1\n",
        "while( i <= n):\n",
        "    if i==1:        \n",
        "        print('+')\n",
        "    else:\n",
        "        a = a + '+'\n",
        "        print(a)    \n",
        "    i += 1"
      ],
      "execution_count": 16,
      "outputs": [
        {
          "output_type": "stream",
          "text": [
            "4\n",
            "+\n",
            "++\n",
            "+++\n",
            "++++\n"
          ],
          "name": "stdout"
        }
      ]
    },
    {
      "cell_type": "markdown",
      "metadata": {
        "id": "5KKWVQuqFGZr",
        "colab_type": "text"
      },
      "source": [
        "40 - Itere sobre a lista abaixo e crie uma nova lista com todos os nomes em letras maisculuas e com underline ao invés de espaços. Dica: utilize compreensão de listas.\n",
        "lista_nomes = ['Geralt de Rívia','Yennefer de Vengerberd','Triss Marigold','Emhyr var Emreis','Jaskier o bardo']"
      ]
    },
    {
      "cell_type": "code",
      "metadata": {
        "id": "YXXblyc6FGxq",
        "colab_type": "code",
        "colab": {
          "base_uri": "https://localhost:8080/",
          "height": 34
        },
        "outputId": "b0448466-afa2-4060-860a-06d6638ec0ac"
      },
      "source": [
        "lista_nomes = ['Geralt de Rívia','Yennefer de Vengerberd','Triss Marigold','Emhyr var Emreis','Jaskier o bardo']\n",
        "lst = [x.upper().replace(\" \",\"_\") for x in lista_nomes]\n",
        "print(lst)"
      ],
      "execution_count": 17,
      "outputs": [
        {
          "output_type": "stream",
          "text": [
            "['GERALT_DE_RÍVIA', 'YENNEFER_DE_VENGERBERD', 'TRISS_MARIGOLD', 'EMHYR_VAR_EMREIS', 'JASKIER_O_BARDO']\n"
          ],
          "name": "stdout"
        }
      ]
    },
    {
      "cell_type": "markdown",
      "metadata": {
        "id": "Z69w84aZFHnD",
        "colab_type": "text"
      },
      "source": [
        "42 - Construa usando um programa que represente a seguinte árvore abaixo:\n",
        "Quando x = 'bacon', y = [1,2,3,4,5,6,7,8,9,10,'a','b','c','d','e','f','g','h'] e z = 15. Qual valor o programa deverá printar?\n",
        "\n",
        "Quando x = 'bacon', y = [1,2,3,4], e z = 20. Qual valor o programa deverá printar?\n",
        "\n",
        "Quando x='couxeiro', y = [[1,2,3,4,5],[1,2,3,4,5],[1,2,3,4,5]] e z = 21. Qual valor o programa deverá printar?"
      ]
    },
    {
      "cell_type": "code",
      "metadata": {
        "id": "_k8TCvAyFIFH",
        "colab_type": "code",
        "colab": {}
      },
      "source": [
        "x = 'bacon'\n",
        "y = [1,2,3,4,5,6,7,8,9,10,'a','b','c','d','e','f','g','h']\n",
        "z = 15 \n",
        "#Qual valor o programa deverá printar? == RESULTADO 1\n",
        "\n",
        "X = 'bacon'\n",
        "y = [1,2,3,4]\n",
        "z = 21 \n",
        "#Qual valor o programa deverá printar? RESULTADO 2\n",
        "\n",
        "x ='couxeiro'\n",
        "y = [[1,2,3,4,5],[1,2,3,4,5],[1,2,3,4,5]] \n",
        "z = 21\n",
        "# Qual valor o programa deverá printar? RESULTADO 2"
      ],
      "execution_count": 21,
      "outputs": []
    },
    {
      "cell_type": "code",
      "metadata": {
        "id": "53nv1doSFIl7",
        "colab_type": "code",
        "colab": {
          "base_uri": "https://localhost:8080/",
          "height": 34
        },
        "outputId": "c9ae0bfe-e509-426c-f433-c4bd8f90c915"
      },
      "source": [
        "x = [x for x in x]\n",
        "if(x[0]==\"b\"):\n",
        "    if(len(y)>=15):\n",
        "        print(\"Resultado 1\")\n",
        "    else:\n",
        "        if(z % 2 == 0):\n",
        "            print(\"Resultado 1\")\n",
        "        else:\n",
        "            print(\"Resultado 2\")\n",
        "else:\n",
        "    if(x[1]==\"a\"):\n",
        "        print(\"Resultado 1\")        \n",
        "    else:\n",
        "        print(\"Resultado 2\")"
      ],
      "execution_count": 22,
      "outputs": [
        {
          "output_type": "stream",
          "text": [
            "Resultado 2\n"
          ],
          "name": "stdout"
        }
      ]
    },
    {
      "cell_type": "markdown",
      "metadata": {
        "id": "0VOk-PWzHt86",
        "colab_type": "text"
      },
      "source": [
        "43 - Use a função zip para juntar as duas listas abaixo em uma tupla."
      ]
    },
    {
      "cell_type": "code",
      "metadata": {
        "id": "Nx-QJcq2HxBp",
        "colab_type": "code",
        "colab": {}
      },
      "source": [
        "nomes = ['nasser','joao','mateus'] \n",
        "salarios = [1000, 1500, 5000]\n",
        "a = list(zip(nomes, salarios))\n",
        "a"
      ],
      "execution_count": null,
      "outputs": []
    },
    {
      "cell_type": "markdown",
      "metadata": {
        "id": "MUmQyWQOH0nR",
        "colab_type": "text"
      },
      "source": [
        "44 - Considera as duas listas abaixo, a primeira demonstra o valor real de venda de uma casa e a segunda demonstra o valor recomendado por um modelo de regressão. Gere uma terceira lista com o resíduo de cada ponto. O resíduo é o resultado da subtração entre o valor real e o valor predito para determinado ponto."
      ]
    },
    {
      "cell_type": "code",
      "metadata": {
        "id": "Wg2nEyJrH1Zk",
        "colab_type": "code",
        "colab": {}
      },
      "source": [
        "real = [150358,368525,532152,144789]\n",
        "predito = [162122,365255,533200,185789]\n",
        "\n",
        "def calcularResiduo(lst1, lst2):\n",
        "    res = []\n",
        "    for x,y in enumerate(lst1): \n",
        "         res.append(y - lst2[x])\n",
        "    return res\n",
        "residuo = calcularResiduo(real, predito)\n",
        "print(residuo)"
      ],
      "execution_count": null,
      "outputs": []
    },
    {
      "cell_type": "markdown",
      "metadata": {
        "id": "0Wu7t6XBH-qZ",
        "colab_type": "text"
      },
      "source": [
        "#### 45 - Utilize a função 'filter' do python para filtrar somente os valores positivos do resultado da questão 44."
      ]
    },
    {
      "cell_type": "code",
      "metadata": {
        "id": "sx0BnKz7ICt3",
        "colab_type": "code",
        "colab": {}
      },
      "source": [
        "a = list(filter(lambda x: x > 0, residuo))    "
      ],
      "execution_count": null,
      "outputs": []
    },
    {
      "cell_type": "markdown",
      "metadata": {
        "id": "0T0LgNwKIDaJ",
        "colab_type": "text"
      },
      "source": [
        "46 - Ainda usando o resultado da questão 44 calcule, sem utilizar bibliotecas, o RMSE do valor predito. Referência: https://tinyurl.com/yd9ljcmj"
      ]
    },
    {
      "cell_type": "code",
      "metadata": {
        "id": "iDxMeQieIEEd",
        "colab_type": "code",
        "colab": {
          "base_uri": "https://localhost:8080/",
          "height": 34
        },
        "outputId": "d5a561ce-ea34-4c20-d482-b8eb69d8b3e2"
      },
      "source": [
        "real = [150358,368525,532152,144789]\n",
        "predito = [162122,365255,533200,185789]\n",
        "\n",
        "from sklearn.metrics import mean_squared_error\n",
        "from math import sqrt\n",
        "\n",
        "rms = sqrt(mean_squared_error(real, predito))\n",
        "rms"
      ],
      "execution_count": 27,
      "outputs": [
        {
          "output_type": "execute_result",
          "data": {
            "text/plain": [
              "21396.161454803056"
            ]
          },
          "metadata": {
            "tags": []
          },
          "execution_count": 27
        }
      ]
    }
  ]
}