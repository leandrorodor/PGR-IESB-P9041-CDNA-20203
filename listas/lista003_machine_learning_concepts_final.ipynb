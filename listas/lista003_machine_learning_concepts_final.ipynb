{
 "cells": [
  {
   "cell_type": "markdown",
   "metadata": {},
   "source": [
    "# Lista 003 - Machine Learning Concepts\n",
    "\n",
    "Responda cada questão somente dentro do bloco de código descriminado por <b>```### SEU CÓDIGO AQUI ###```</b> e não altere NADA no resto do código. Ao final de cada questão existe uma função para avaliar se a questão está correta, não altere essa função e obedeça o nome das variáveis descrito exercício."
   ]
  },
  {
   "cell_type": "code",
   "execution_count": 1,
   "metadata": {},
   "outputs": [],
   "source": [
    "import pandas as pd\n",
    "import matplotlib.pyplot as plt\n",
    "from sklearn.model_selection import train_test_split\n",
    "\n",
    "from sklearn.linear_model import LinearRegression\n",
    "from sklearn.utils.validation import check_is_fitted\n",
    "from sklearn.metrics import mean_absolute_error\n",
    "from sklearn.metrics import mean_squared_error"
   ]
  },
  {
   "cell_type": "markdown",
   "metadata": {},
   "source": [
    "0. Baixe os microdados do enem do endereço abaixo, extraia e utilize somente os arquivos 'Dicionario_Microdados_Enem_2019' e 'MICRODADOS_ENEM_2019.csv'.\n",
    "\n",
    "> link para download: http://download.inep.gov.br/microdados/microdados_enem_2019.zip\n",
    "\n",
    "1. Abra dos microdados do enem e trate os dados da forma descrita abaixo e guarde o resultado na variável 'df':\n",
    "\n",
    "> 1.1 Selecione somente as colunas ['SG_UF_RESIDENCIA','NU_INSCRICAO','NU_IDADE','TP_COR_RACA','TP_SEXO','NU_NOTA_CN','TP_ESCOLA','NU_NOTA_CH','NU_NOTA_LC','NU_NOTA_MT','NU_NOTA_REDACAO','TP_PRESENCA_CN','TP_PRESENCA_CH','TP_PRESENCA_LC','TP_PRESENCA_MT'].\n",
    "\n",
    "> 1.2 Verifique o dicionário de dados e filtre o dataset somente com os alunos presentes nas provas de Ciência da Natureza, Ciências Humanas, Linguagens e Códigos e Matemática.\n",
    "\n",
    "> 1.3 Verifique o dicionário de dados e filtre o dataset somente com os alunos de escolas privadas e públicas.\n",
    "\n",
    "> 1.4 Calcule uma coluna chamada 'nota_final' que representa a média das notas daquele aluno.\n",
    "\n",
    "> 1.5 Execute um drop nas colunas ['TP_PRESENCA_CN','TP_PRESENCA_CH','TP_PRESENCA_LC','TP_PRESENCA_MT','NU_NOTA_CN','NU_NOTA_CH','NU_NOTA_LC','NU_NOTA_MT','NU_NOTA_REDACAO']\n",
    "\n",
    "> 1.6 Execute um drop nos valores nulos da coluna 'nota_final'.\n",
    "\n",
    "2. Defina as variáveis 'X' e 'y' para um trabalho de regressão que prediga a nota do aluno de acordo com as características em 'X' (dica: não considere colunas com alta cardinalidade).\n",
    "\n",
    "3. Defina as variáveis 'X_train','X_test', 'y_train', 'y_test', separe para teste somente 25% do total do dataset, o valor da seed aleatória deve ser 42.\n",
    "\n",
    "4. Adicione as variáveis corretas para o treinamento do modelo instanciado na variável 'model'.\n",
    "\n",
    "5. Utilize o modelo instanciado em 'model' para gerar predições, guarde-as em 'y_pred'.\n",
    "\n",
    "6. Adicione as variáveis corretas para a avaliação das métricas.\n",
    "\n",
    "7. Crie um código que simule 500 valores de X onde todas as variáveis devam ser zeradas, porém a cada iteração a variável idade deve ser incrementada em 1. Use cada um desses valores de X para prever um Y. Plote um gráfico demonstrando o comportamento de Y frente a alteração de X e o interprete (se necessário adicione uma célula markdown para sua interpretação)."
   ]
  },
  {
   "cell_type": "markdown",
   "metadata": {},
   "source": [
    "### Questão 01"
   ]
  },
  {
   "cell_type": "code",
   "execution_count": 2,
   "metadata": {},
   "outputs": [
    {
     "name": "stdout",
     "output_type": "stream",
     "text": [
      "(1217154, 7)\n",
      "Passou no primeiro teste.\n",
      "Passou no segundo teste.\n",
      "Passou no terceiro teste.\n",
      "Passou no quarto teste.\n",
      "Passou no quinto teste.\n",
      "Passou em todos os testes.\n",
      "Os dados já estão prontos para serem utilizados nas próximas questões.\n"
     ]
    }
   ],
   "source": [
    "### SEU CÓDIGO AQUI ###\n",
    "\n",
    "df = pd.read_csv('../data/microdados_enem_2019/DADOS/MICRODADOS_ENEM_2019.csv',\n",
    "                 encoding='latin-1',\n",
    "                 sep=';',\n",
    "                 usecols=['NU_INSCRICAO','SG_UF_RESIDENCIA','TP_ESCOLA','NU_IDADE','TP_COR_RACA','TP_SEXO','NU_NOTA_CN',\n",
    "                          'NU_NOTA_CH','NU_NOTA_LC','NU_NOTA_MT','NU_NOTA_REDACAO',\n",
    "                          'TP_PRESENCA_CN','TP_PRESENCA_CH','TP_PRESENCA_LC','TP_PRESENCA_MT'])\n",
    "\n",
    "df = df[(df.TP_ESCOLA == 2)|(df.TP_ESCOLA == 3)]\n",
    "df = df[(df.TP_PRESENCA_CN == 1) & (df.TP_PRESENCA_CH == 1) & (df.TP_PRESENCA_LC == 1) & (df.TP_PRESENCA_MT == 1)]\n",
    "df['nota_final'] = (df.NU_NOTA_CN + df.NU_NOTA_CH + df.NU_NOTA_LC + df.NU_NOTA_MT + df.NU_NOTA_REDACAO) / 5\n",
    "df.drop(['TP_PRESENCA_CN','TP_PRESENCA_CH',\n",
    "         'TP_PRESENCA_LC','TP_PRESENCA_MT',\n",
    "         'NU_NOTA_CN','NU_NOTA_CH','NU_NOTA_LC',\n",
    "         'NU_NOTA_MT','NU_NOTA_REDACAO'],axis=1,inplace=True)\n",
    "df.dropna(subset=['nota_final'],inplace=True)\n",
    "\n",
    "### SEU CÓDIGO AQUI ###\n",
    "print(df.shape)\n",
    "assert df.shape == (1217154, 7),'Não passou no primeiro teste.'\n",
    "print('Passou no primeiro teste.')\n",
    "assert 'nota_final' in df.columns,'Não passou no segundo teste.'\n",
    "print('Passou no segundo teste.')\n",
    "assert df.isna().sum().sum() == 0,'Não passou no terceiro teste.'\n",
    "print('Passou no terceiro teste.')\n",
    "assert round(df.nota_final.mean(),2) == 521.38,'Não passou no quarto teste.'\n",
    "print('Passou no quarto teste.')\n",
    "assert round(df.nota_final.var(),2) == 7369.32,'Não passou no quinto teste.'\n",
    "print('Passou no quinto teste.')\n",
    "print('Passou em todos os testes.\\nOs dados já estão prontos para serem utilizados nas próximas questões.')"
   ]
  },
  {
   "cell_type": "markdown",
   "metadata": {},
   "source": [
    "### Questão 02"
   ]
  },
  {
   "cell_type": "code",
   "execution_count": 3,
   "metadata": {},
   "outputs": [
    {
     "name": "stdout",
     "output_type": "stream",
     "text": [
      "Passou no primeiro teste.\n",
      "Passou no segundo teste.\n",
      "Passou no terceiro teste.\n",
      "Passou no quarto teste.\n",
      "Passou em todos os testes.\n",
      "Continue para a próxima questão.\n"
     ]
    }
   ],
   "source": [
    "df['SG_UF_RESIDENCIA'] = pd.factorize(df.SG_UF_RESIDENCIA)[0]\n",
    "df['TP_SEXO'] = pd.factorize(df.TP_SEXO)[0]\n",
    "\n",
    "### SEU CÓDIGO AQUI ###\n",
    "\n",
    "y = df.nota_final\n",
    "X = df[['SG_UF_RESIDENCIA','NU_IDADE','TP_SEXO','TP_COR_RACA','TP_ESCOLA']]\n",
    "\n",
    "### SEU CÓDIGO AQUI ###\n",
    "\n",
    "assert X.shape == (1217154, 5),'Não passou no primeiro teste.'\n",
    "print('Passou no primeiro teste.')\n",
    "assert 'nota_final' not in X.columns,'Não passou no segundo teste.'\n",
    "print('Passou no segundo teste.')\n",
    "assert y.shape == (1217154,),'Não passou no terceiro teste.'\n",
    "print('Passou no terceiro teste.')\n",
    "assert y.name == 'nota_final','Não passou no quarto teste.'\n",
    "print('Passou no quarto teste.')\n",
    "print('Passou em todos os testes.\\nContinue para a próxima questão.')"
   ]
  },
  {
   "cell_type": "markdown",
   "metadata": {},
   "source": [
    "### Questão 3"
   ]
  },
  {
   "cell_type": "code",
   "execution_count": 4,
   "metadata": {},
   "outputs": [
    {
     "name": "stdout",
     "output_type": "stream",
     "text": [
      "Passou no primeiro teste.\n",
      "Passou no segundo teste.\n",
      "Passou no teceiro teste.\n",
      "Passou no quarto teste.\n",
      "Passou no quinto teste.\n",
      "Passou no quarto teste.\n",
      "Passou em todos os testes.\n",
      "Continue para a próxima questão.\n"
     ]
    }
   ],
   "source": [
    "### SEU CÓDIGO AQUI ###\n",
    "\n",
    "X_train, X_test, y_train, y_test = train_test_split(X,y,test_size=0.25,random_state=42)\n",
    "\n",
    "\n",
    "### SEU CÓDIGO AQUI ###\n",
    "\n",
    "assert X_train.shape == (912865, 5), 'Não passou no primeiro teste.'\n",
    "print('Passou no primeiro teste.')\n",
    "assert X_test.shape == (304289, 5), 'Não passou no segundo teste.'\n",
    "print('Passou no segundo teste.')\n",
    "assert y_train.shape == (912865,), 'Não passou no terceiro teste.'\n",
    "print('Passou no teceiro teste.')\n",
    "assert y_test.shape == (304289,), 'Não passou no quarto teste.'\n",
    "print('Passou no quarto teste.')\n",
    "assert round(y_test[145421],2) == 367.28, 'Não passou no quinto teste.'\n",
    "print('Passou no quinto teste.')\n",
    "assert X_test.loc[145421,'NU_IDADE'] == 19, 'Não passou no sexto teste.'\n",
    "print('Passou no quarto teste.')\n",
    "print('Passou em todos os testes.\\nContinue para a próxima questão.')"
   ]
  },
  {
   "cell_type": "markdown",
   "metadata": {},
   "source": [
    "### Questão 4"
   ]
  },
  {
   "cell_type": "code",
   "execution_count": 5,
   "metadata": {},
   "outputs": [
    {
     "name": "stdout",
     "output_type": "stream",
     "text": [
      "Passou em todos os testes.\n",
      "Continue para a próxima questão.\n"
     ]
    }
   ],
   "source": [
    "model = LinearRegression()\n",
    "\n",
    "### SEU CÓDIGO AQUI ###\n",
    "\n",
    "model = LinearRegression()\n",
    "model.fit(X_train, y_train)\n",
    "\n",
    "\n",
    "### SEU CÓDIGO AQUI ###\n",
    "\n",
    "assert round(model.__getstate__()['singular_'][0],2) == 6743.96, 'Não passou no primeiro teste. Certifique-se de usar o subset correto.'\n",
    "print('Passou em todos os testes.\\nContinue para a próxima questão.')"
   ]
  },
  {
   "cell_type": "markdown",
   "metadata": {},
   "source": [
    "### Questão 5"
   ]
  },
  {
   "cell_type": "code",
   "execution_count": 6,
   "metadata": {},
   "outputs": [
    {
     "name": "stdout",
     "output_type": "stream",
     "text": [
      "Passou no primeiro teste.\n",
      "Passou no segundo teste.\n",
      "Passou em todos os testes.\n",
      "Continue para a próxima questão.\n"
     ]
    }
   ],
   "source": [
    "### SEU CÓDIGO AQUI ###\n",
    "\n",
    "y_pred = model.predict(X_test)\n",
    "\n",
    "### SEU CÓDIGO AQUI ###\n",
    "\n",
    "try:\n",
    "    check_is_fitted(model)\n",
    "except:\n",
    "    print('O modelo não foi treinado. Refaça a questão anterior')\n",
    "\n",
    "assert round(y_pred[100],2) == 493.68, 'Não passou no primeiro teste.'\n",
    "print('Passou no primeiro teste.')\n",
    "assert round(y_pred.mean(),2) == 521.23, 'Não passou no segundo teste.'\n",
    "print('Passou no segundo teste.')\n",
    "print('Passou em todos os testes.\\nContinue para a próxima questão.')"
   ]
  },
  {
   "cell_type": "markdown",
   "metadata": {},
   "source": [
    "### Questão 6"
   ]
  },
  {
   "cell_type": "code",
   "execution_count": 7,
   "metadata": {},
   "outputs": [
    {
     "name": "stdout",
     "output_type": "stream",
     "text": [
      "Passou no primeiro teste.\n",
      "Passou no segundo teste.\n",
      "Passou em todos os testes.\n",
      "Continue para a próxima questão.\n"
     ]
    }
   ],
   "source": [
    "### SEU CÓDIGO AQUI ###\n",
    "\n",
    "mae = mean_absolute_error(y_test, model.predict(X_test)) # y_pred\n",
    "mse = mean_squared_error(y_test, model.predict(X_test)) #y_pred)\n",
    "\n",
    "### SEU CÓDIGO AQUI ###\n",
    "\n",
    "assert round(mae,2) == 59.7,'Não passou no primeiro teste.'\n",
    "print('Passou no primeiro teste.')\n",
    "assert round(mse,2) == 5623.15,'Não passou no segundo teste.'\n",
    "print('Passou no segundo teste.')\n",
    "print('Passou em todos os testes.\\nContinue para a próxima questão.')"
   ]
  },
  {
   "cell_type": "markdown",
   "metadata": {},
   "source": [
    "### Questão 7"
   ]
  },
  {
   "cell_type": "code",
   "execution_count": 8,
   "metadata": {},
   "outputs": [
    {
     "data": {
      "image/png": "[encoded data removed]",
      "text/plain": [
       "<Figure size 1440x432 with 1 Axes>"
      ]
     },
     "metadata": {
      "needs_background": "light"
     },
     "output_type": "display_data"
    }
   ],
   "source": [
    "### SEU CÓDIGO AQUI ###\n",
    "\n",
    "X_test = X_test.reset_index(drop=True)\n",
    "df_test = X_test.loc[range(500)]\n",
    "\n",
    "dados = pd.DataFrame(columns=['PREDITO','IDADE'])\n",
    "\n",
    "for i in range(500):\n",
    "    df_test.at[i, 'NU_IDADE'] = i\n",
    "    dados['IDADE'] = i\n",
    "    dados['PREDITO'] = model.predict(df_test)\n",
    "\n",
    "plt.figure(figsize=(20,6))\n",
    "plt.plot(dados['PREDITO'],color='tab:orange',label='Valor Predito')\n",
    "plt.legend()\n",
    "plt.show()\n",
    "\n",
    "### SEU CÓDIGO AQUI ###\n",
    "\n",
    "\n"
   ]
  },
  {
   "cell_type": "code",
   "execution_count": null,
   "metadata": {},
   "outputs": [],
   "source": []
  }
 ],
 "metadata": {
  "kernelspec": {
   "display_name": "Python 3",
   "language": "python",
   "name": "python3"
  },
  "language_info": {
   "codemirror_mode": {
    "name": "ipython",
    "version": 3
   },
   "file_extension": ".py",
   "mimetype": "text/x-python",
   "name": "python",
   "nbconvert_exporter": "python",
   "pygments_lexer": "ipython3",
   "version": "3.7.6"
  }
 },
 "nbformat": 4,
 "nbformat_minor": 4
}
