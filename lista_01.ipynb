{
  "nbformat": 4,
  "nbformat_minor": 0,
  "metadata": {
    "colab": {
      "name": "Untitled5.ipynb",
      "provenance": [],
      "authorship_tag": "ABX9TyM1Ur3OlkKZcG6ZJWetaDpu",
      "include_colab_link": true
    },
    "kernelspec": {
      "name": "python3",
      "display_name": "Python 3"
    }
  },
  "cells": [
    {
      "cell_type": "markdown",
      "metadata": {
        "id": "view-in-github",
        "colab_type": "text"
      },
      "source": [
        "<a href=\"https://colab.research.google.com/github/leandrorodor/PGR-IESB-P9041-CDNA-20203/blob/master/lista_01.ipynb\" target=\"_parent\"><img src=\"https://colab.research.google.com/assets/colab-badge.svg\" alt=\"Open In Colab\"/></a>"
      ]
    },
    {
      "cell_type": "markdown",
      "metadata": {
        "id": "ZkA_wLSb60fW",
        "colab_type": "text"
      },
      "source": [
        "Lista 01 - Python\n",
        "\n",
        "\n",
        "---\n",
        "\n"
      ]
    },
    {
      "cell_type": "markdown",
      "metadata": {
        "id": "UDzGKyli66Vt",
        "colab_type": "text"
      },
      "source": [
        "#### 1 - Execute todas as operações aritiméticas básicas (adição, subtração, divisão e multiplicação) com as variáveis 'a' e 'b' abaixo."
      ]
    },
    {
      "cell_type": "code",
      "metadata": {
        "id": "23Ms-Rak6zWq",
        "colab_type": "code",
        "colab": {}
      },
      "source": [
        "a = 15\n",
        "b = 12\n",
        "\n",
        "soma=(a + b) # Adição\n",
        "print(soma)\n",
        "\n",
        "sub=(a - b) # Subtração\n",
        "print(sub)\n",
        "\n",
        "mult=(a * b) # Multiplicação\n",
        "print(mult)\n",
        "\n",
        "div=(a / b) # Divisão\n",
        "print(div)\n",
        "\n",
        "inteiro=(a // b) # Parte inteiro\n",
        "print(inteiro)\n",
        "\n",
        "modulo=(a % b) # Módulo\n",
        "print(resto)\n",
        "\n",
        "exp=(a ** b) # Exponenciação\n",
        "print(exp)\n"
      ],
      "execution_count": null,
      "outputs": []
    },
    {
      "cell_type": "markdown",
      "metadata": {
        "id": "7U9Rwgjm67Lf",
        "colab_type": "text"
      },
      "source": [
        "#### 2 - Tente calcular o seu IMC utilizando somente operações matemáticas. Dica: o IMC é calculado da seguinte forma: IMC = peso / (altura em metros * altura em metros)c"
      ]
    },
    {
      "cell_type": "code",
      "metadata": {
        "id": "L7GfA_2G67nG",
        "colab_type": "code",
        "colab": {
          "base_uri": "https://localhost:8080/",
          "height": 34
        },
        "outputId": "0e1b1509-b7a4-4880-99eb-c6d29a8a12ea"
      },
      "source": [
        "def imc(peso,altura):\n",
        "    print(\"Seu IMC é:\",peso/altura ** altura)  \n",
        "\n",
        "imc(110,1.85)"
      ],
      "execution_count": 1,
      "outputs": [
        {
          "output_type": "stream",
          "text": [
            "Seu IMC é: 35.24722960752854\n"
          ],
          "name": "stdout"
        }
      ]
    },
    {
      "cell_type": "markdown",
      "metadata": {
        "id": "4_4oW5Qz6751",
        "colab_type": "text"
      },
      "source": [
        "#### 3 - Sua professora de português pediu para você escrever a frase 'português é maravilhoso' 50 vezes. Como resolver esse problema com python? Demonstre sua solução."
      ]
    },
    {
      "cell_type": "code",
      "metadata": {
        "id": "R5huPMJD68H9",
        "colab_type": "code",
        "colab": {}
      },
      "source": [
        "for i in range(50):\n",
        "    print(\"português é maravilhoso\")"
      ],
      "execution_count": null,
      "outputs": []
    },
    {
      "cell_type": "markdown",
      "metadata": {
        "id": "07k5UY4u68Xj",
        "colab_type": "text"
      },
      "source": [
        "#### 4 - Um modelo de regressão linear possui a seguinte fórmula: y=0.253*x + 125. Qual será o valor de Y quando X for 125?"
      ]
    },
    {
      "cell_type": "code",
      "metadata": {
        "id": "ObB-nUrz68kB",
        "colab_type": "code",
        "colab": {}
      },
      "source": [
        "def reg(x):\n",
        "    return (0.253*x+125)\n",
        "y = reg(125)\n",
        "print(y)"
      ],
      "execution_count": null,
      "outputs": []
    },
    {
      "cell_type": "markdown",
      "metadata": {
        "id": "pfE9JPjf68vw",
        "colab_type": "text"
      },
      "source": [
        "#### 5 - Qual é raiz cubica de 144? Utilize somente operações python apresentadas neste notebook.c"
      ]
    },
    {
      "cell_type": "code",
      "metadata": {
        "id": "wfDR_NOe686e",
        "colab_type": "code",
        "colab": {
          "base_uri": "https://localhost:8080/",
          "height": 34
        },
        "outputId": "11621460-4775-4016-cbad-6a75e7258551"
      },
      "source": [
        "def r_cub(x):\n",
        "    return (x**(1./3.))\n",
        "\n",
        "x = r_cub(144)\n",
        "print(x)  "
      ],
      "execution_count": 2,
      "outputs": [
        {
          "output_type": "stream",
          "text": [
            "5.241482788417793\n"
          ],
          "name": "stdout"
        }
      ]
    },
    {
      "cell_type": "markdown",
      "metadata": {
        "id": "4X4XPs0o69FH",
        "colab_type": "text"
      },
      "source": [
        "#### 6 - Nossa matéria terá dois trabalhos! Os pesos são, respectivamente, 4 e 6. Imagine que você tenha tirado 8.2 no primeiro projeto e 3.3 no segundo projeto. Levando em consideração sua nota final e os pesos, você tirou uma média maior que 5?"
      ]
    },
    {
      "cell_type": "code",
      "metadata": {
        "id": "CsTZZily69O8",
        "colab_type": "code",
        "colab": {
          "base_uri": "https://localhost:8080/",
          "height": 34
        },
        "outputId": "270a9bde-dc46-4f19-9d30-c4400ea33139"
      },
      "source": [
        "p1 = 4\n",
        "p2 = 6\n",
        "def nota(n1,n2):\n",
        "    media_ponderada = ((n1*p1)+(n2*p2)/p1+p2)/10\n",
        "\n",
        "    if (media_ponderada <= 5):\n",
        "        print(\"Sua média é insuficiente - \",media_ponderada)\n",
        "    else:\n",
        "        print(\"Você foi aprovado - \",media_ponderada)\n",
        "\n",
        "nota(8.2,3.3)"
      ],
      "execution_count": 3,
      "outputs": [
        {
          "output_type": "stream",
          "text": [
            "Sua média é insuficiente -  4.375\n"
          ],
          "name": "stdout"
        }
      ]
    },
    {
      "cell_type": "markdown",
      "metadata": {
        "id": "T694etAR69Yf",
        "colab_type": "text"
      },
      "source": [
        "#### 7 - Crie uma lista 'a_list' com os seguintes valores: 1, hello, [1,2,3] e True."
      ]
    },
    {
      "cell_type": "code",
      "metadata": {
        "id": "_f7j5ttG69gv",
        "colab_type": "code",
        "colab": {}
      },
      "source": [
        "a_list=[1,\"hello\",[1,2,3],True]"
      ],
      "execution_count": null,
      "outputs": []
    },
    {
      "cell_type": "markdown",
      "metadata": {
        "id": "mRKheQnz69on",
        "colab_type": "text"
      },
      "source": [
        "#### 8 - Ache o valor em 'a_list' que esteja no índice -1."
      ]
    },
    {
      "cell_type": "code",
      "metadata": {
        "id": "Pqi5f8-269vP",
        "colab_type": "code",
        "colab": {}
      },
      "source": [
        "a_list[-1]"
      ],
      "execution_count": null,
      "outputs": []
    },
    {
      "cell_type": "markdown",
      "metadata": {
        "id": "imUsGwqw692J",
        "colab_type": "text"
      },
      "source": [
        "#### 9 - Encontre os valores em 'a_list' que estejam nos indices 1,2 e 3."
      ]
    },
    {
      "cell_type": "code",
      "metadata": {
        "id": "D3OXLI9O6-AH",
        "colab_type": "code",
        "colab": {}
      },
      "source": [
        "a_list[1:4]"
      ],
      "execution_count": null,
      "outputs": []
    },
    {
      "cell_type": "markdown",
      "metadata": {
        "id": "pyL1bl4x6-Im",
        "colab_type": "text"
      },
      "source": [
        "#### 10 - Junte as seguinte listas a=[1,2,3,4,5] e b=[11,12,13,14,15]c"
      ]
    },
    {
      "cell_type": "code",
      "metadata": {
        "id": "HwMeHkAZ6-Pg",
        "colab_type": "code",
        "colab": {}
      },
      "source": [
        "a=[1,2,3,4,5]\n",
        "b=[11,12,13,14,15]\n",
        "\n",
        "c=a+b\n",
        "print(c)"
      ],
      "execution_count": null,
      "outputs": []
    },
    {
      "cell_type": "markdown",
      "metadata": {
        "id": "YXI9SXgP6-W-",
        "colab_type": "text"
      },
      "source": [
        "#### 11 - Crie uma lista de listas 'list_list' que tenha os valores de 'a_list', 'a' e 'b'c"
      ]
    },
    {
      "cell_type": "code",
      "metadata": {
        "id": "khoGZ5KQ6-do",
        "colab_type": "code",
        "colab": {}
      },
      "source": [
        "list_list=[a_list,a,b]\n",
        "\n",
        "list_list\n"
      ],
      "execution_count": null,
      "outputs": []
    },
    {
      "cell_type": "markdown",
      "metadata": {
        "id": "uZNBgXhv6-kX",
        "colab_type": "text"
      },
      "source": [
        "#### 12 - Qual o tamanho de 'list_list'?"
      ]
    },
    {
      "cell_type": "code",
      "metadata": {
        "id": "3CugovA86-wn",
        "colab_type": "code",
        "colab": {}
      },
      "source": [
        "len(list_list)"
      ],
      "execution_count": null,
      "outputs": []
    },
    {
      "cell_type": "markdown",
      "metadata": {
        "id": "MZlrsWuUDT0i",
        "colab_type": "text"
      },
      "source": [
        "#### 13 - Adicione o valor 125 ao final de 'list_list'"
      ]
    },
    {
      "cell_type": "code",
      "metadata": {
        "id": "V99qezIfDT--",
        "colab_type": "code",
        "colab": {}
      },
      "source": [
        "list_list.append(125)\n",
        "\n",
        "list_list"
      ],
      "execution_count": null,
      "outputs": []
    },
    {
      "cell_type": "markdown",
      "metadata": {
        "id": "JxLi6W5_DUI3",
        "colab_type": "text"
      },
      "source": [
        "#### 14 - Remova a lista [1,2,3] de 'list_list' e guarde esse valor numa variável 'list_a'."
      ]
    },
    {
      "cell_type": "code",
      "metadata": {
        "id": "pj_XG6oSDUT-",
        "colab_type": "code",
        "colab": {}
      },
      "source": [
        "list_a=list_list[0][2]\n",
        "\n",
        "list_a"
      ],
      "execution_count": null,
      "outputs": []
    },
    {
      "cell_type": "markdown",
      "metadata": {
        "id": "xBuwL--PDUW8",
        "colab_type": "text"
      },
      "source": [
        "#### 15 - Qual é o primeiro valor do segundo valor de [[1,3,5,7],[2,4,6,8,10]]?"
      ]
    },
    {
      "cell_type": "code",
      "metadata": {
        "id": "7WGeNRU5DUhC",
        "colab_type": "code",
        "colab": {}
      },
      "source": [
        "valor=[[1,3,5,7],[2,4,6,8,10]]\n",
        "valor[1][0]"
      ],
      "execution_count": null,
      "outputs": []
    },
    {
      "cell_type": "markdown",
      "metadata": {
        "id": "KV4pL0K8DwgS",
        "colab_type": "text"
      },
      "source": [
        "#### 16 - Crie a tupla 'gnr' com os seguintes valores: rock, metal, sertanejo, pop, lo-fi e chillwave, nessa ordem."
      ]
    },
    {
      "cell_type": "code",
      "metadata": {
        "id": "34qy41AjDU1c",
        "colab_type": "code",
        "colab": {}
      },
      "source": [
        "grn=(\"rock\", \"metal\", \"sertanejo\", \"pop\",\"lo-fi\",\"chillwave\")c"
      ],
      "execution_count": null,
      "outputs": []
    },
    {
      "cell_type": "markdown",
      "metadata": {
        "id": "72Lt1mIWDVCS",
        "colab_type": "text"
      },
      "source": [
        "#### 17 - Qual o terceiro valor da tupla 'gnr'"
      ]
    },
    {
      "cell_type": "code",
      "metadata": {
        "id": "FXk5Bi9EED7F",
        "colab_type": "code",
        "colab": {}
      },
      "source": [
        "grn[2]"
      ],
      "execution_count": null,
      "outputs": []
    },
    {
      "cell_type": "markdown",
      "metadata": {
        "id": "eZ7zuOmqFDN9",
        "colab_type": "text"
      },
      "source": [
        "#### 18 - Qual o índice de lofi?"
      ]
    },
    {
      "cell_type": "code",
      "metadata": {
        "id": "bG3UBj_qFDod",
        "colab_type": "code",
        "colab": {}
      },
      "source": [
        "grn.index(\"lo-fi\")"
      ],
      "execution_count": null,
      "outputs": []
    },
    {
      "cell_type": "markdown",
      "metadata": {
        "id": "Liai2q3bDVR2",
        "colab_type": "text"
      },
      "source": [
        "#### 19 - Crie uma tupla de tuplas com as seguintes tuplas (15,30), (20,40) e (25,50). Como acessar o valor 40?"
      ]
    },
    {
      "cell_type": "code",
      "metadata": {
        "id": "Vy2ebes3DVfm",
        "colab_type": "code",
        "colab": {}
      },
      "source": [
        "tupla=((15,30),(20,40),(25,50))"
      ],
      "execution_count": null,
      "outputs": []
    },
    {
      "cell_type": "markdown",
      "metadata": {
        "id": "WfXB08HIENm3",
        "colab_type": "text"
      },
      "source": [
        "#### 20 - Acesse a tupla 'gnr' a cada dois valores, qual gêneros musicais aparecem?"
      ]
    },
    {
      "cell_type": "code",
      "metadata": {
        "id": "RPDwKeGhDVHo",
        "colab_type": "code",
        "colab": {}
      },
      "source": [
        "grn[:2] #Slice"
      ],
      "execution_count": null,
      "outputs": []
    },
    {
      "cell_type": "markdown",
      "metadata": {
        "id": "SGjhICnEEVRw",
        "colab_type": "text"
      },
      "source": [
        "#### 21 - Crie o dicionário 'mcu' com os seguintes dados, 'Homem de Ferro':2008, 'Homem de Ferro 2':2010, 'Homem de ferro 3':2013, 'Avengers: Endgame':2019."
      ]
    },
    {
      "cell_type": "code",
      "metadata": {
        "id": "f6vuDVtJEVqA",
        "colab_type": "code",
        "colab": {}
      },
      "source": [
        "mcu={'Homem de Ferro':2008, 'Homem de Ferro 2':2010, 'Homem de ferro 3':2013, 'Avengers: Endgame':2019}c"
      ],
      "execution_count": null,
      "outputs": []
    },
    {
      "cell_type": "markdown",
      "metadata": {
        "id": "p3trPBScEV80",
        "colab_type": "text"
      },
      "source": [
        "##### a - No dicionário 'mcu' quais são os valores?"
      ]
    },
    {
      "cell_type": "code",
      "metadata": {
        "id": "wYqoQNU9EWTT",
        "colab_type": "code",
        "colab": {}
      },
      "source": [
        "mcu.values()\n"
      ],
      "execution_count": null,
      "outputs": []
    },
    {
      "cell_type": "markdown",
      "metadata": {
        "id": "9LiN3HuCDUzZ",
        "colab_type": "text"
      },
      "source": [
        "##### b - No dicińario 'mcu' quais são as chaves?"
      ]
    },
    {
      "cell_type": "code",
      "metadata": {
        "id": "kAsy8qs0EvDh",
        "colab_type": "code",
        "colab": {}
      },
      "source": [
        "mcu.keys()"
      ],
      "execution_count": null,
      "outputs": []
    },
    {
      "cell_type": "markdown",
      "metadata": {
        "id": "8nQlM8quEyKN",
        "colab_type": "text"
      },
      "source": [
        "##### c - Adicione ao dicionário 'mcu' os seguintes filmes: 'Avengers Infinity War':2018, 'Avengers Age of Ultron':2015."
      ]
    },
    {
      "cell_type": "code",
      "metadata": {
        "id": "Cuw2l4-dEyhe",
        "colab_type": "code",
        "colab": {}
      },
      "source": [
        "mcu.update({'Avengers Infinity War':2018, 'Avengers Age of Ultron':2015})\n",
        "\n",
        "mcu"
      ],
      "execution_count": null,
      "outputs": []
    },
    {
      "cell_type": "markdown",
      "metadata": {
        "id": "aU7W5LOPEy1S",
        "colab_type": "text"
      },
      "source": [
        "##### d - Delete o filme 'Homem de Ferro 3' do dicionário 'mcu'"
      ]
    },
    {
      "cell_type": "code",
      "metadata": {
        "id": "CQ8X_R_LEzNS",
        "colab_type": "code",
        "colab": {}
      },
      "source": [
        "list(mcu.keys())\n",
        "\n",
        "mcu.pop('Homem de ferro 3')"
      ],
      "execution_count": null,
      "outputs": []
    },
    {
      "cell_type": "markdown",
      "metadata": {
        "id": "XocvomXiEzlX",
        "colab_type": "text"
      },
      "source": [
        "##### e - Limpe o dicionário 'mcu'"
      ]
    },
    {
      "cell_type": "code",
      "metadata": {
        "id": "rLgjIgK1Ez8a",
        "colab_type": "code",
        "colab": {}
      },
      "source": [
        "mcu.clear()"
      ],
      "execution_count": null,
      "outputs": []
    },
    {
      "cell_type": "markdown",
      "metadata": {
        "id": "f6orBoBiE0Ub",
        "colab_type": "text"
      },
      "source": [
        "#### 22 - Popule o dicionário vazio 'mcu' com as informações abaixo:c"
      ]
    },
    {
      "cell_type": "code",
      "metadata": {
        "id": "BeFiBOAIE0uG",
        "colab_type": "code",
        "colab": {}
      },
      "source": [
        "mcu={'homem de ferro':{'filmes':3,'ator principal':'Robert Downey Jr.'},'Cpt.América':{'filmes':3,'ator principal':'Chris Evans'}}"
      ],
      "execution_count": null,
      "outputs": []
    },
    {
      "cell_type": "markdown",
      "metadata": {
        "id": "_YXgamWSFdTn",
        "colab_type": "text"
      },
      "source": [
        "#### 23 - Acesse somente a quantidade de filmes de cada uma das chaves do dicionário MCU."
      ]
    },
    {
      "cell_type": "code",
      "metadata": {
        "id": "Gv3RsFfWFdxv",
        "colab_type": "code",
        "colab": {}
      },
      "source": [
        "mcu[\"homem de ferro\"][\"filmes\"]\n",
        "\n",
        "mcu[\"Cpt.América\"][\"filmes\"]"
      ],
      "execution_count": null,
      "outputs": []
    },
    {
      "cell_type": "markdown",
      "metadata": {
        "id": "AmJqjGvDFlLC",
        "colab_type": "text"
      },
      "source": [
        "#### 24 - Quais são as chaves do dicionário de dicionários 'mcu'?"
      ]
    },
    {
      "cell_type": "code",
      "metadata": {
        "id": "FhbA0RbhFlwX",
        "colab_type": "code",
        "colab": {}
      },
      "source": [
        "mcu.keys()"
      ],
      "execution_count": null,
      "outputs": []
    },
    {
      "cell_type": "markdown",
      "metadata": {
        "id": "bl2v4Tb3Ft0N",
        "colab_type": "text"
      },
      "source": [
        "#### 25 - Qual o tamanho do dicionário de dicionários 'mcu'?"
      ]
    },
    {
      "cell_type": "code",
      "metadata": {
        "id": "CVTFtSjNFuaY",
        "colab_type": "code",
        "colab": {}
      },
      "source": [
        "len(mcu)"
      ],
      "execution_count": null,
      "outputs": []
    },
    {
      "cell_type": "markdown",
      "metadata": {
        "id": "AG_n6CTqF4Z_",
        "colab_type": "text"
      },
      "source": [
        "#### 26 - Escreva uma função python que receba uma lista e separe os múltiplos de 5. Ao final ela retorna a soma de todos os valores da lista de entrada que são múltiplos de 5."
      ]
    },
    {
      "cell_type": "code",
      "metadata": {
        "id": "scziCFEgF5Cw",
        "colab_type": "code",
        "colab": {}
      },
      "source": [
        "lista=[]\n",
        "\n",
        "def multiplos(lista,multiplo):\n",
        "    for i in lista:\n",
        "        if i % multiplo == 0:            \n",
        "            print(i)\n",
        "\n",
        "multiplos(range(100),23)"
      ],
      "execution_count": null,
      "outputs": []
    }
  ]
}